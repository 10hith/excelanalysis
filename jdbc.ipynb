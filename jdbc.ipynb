{
 "cells": [
  {
   "cell_type": "code",
   "execution_count": 44,
   "id": "fb723517-adf0-45dd-9ad6-b2142064b5dc",
   "metadata": {},
   "outputs": [],
   "source": [
    "post_code_df = spark.read.format('csv').option(\"header\", \"true\").load(\"/mnt/c/users/lohith/Downloads/National_Statistics_Postcode_Lookup_UK_Coordinates.csv\")\n"
   ]
  },
  {
   "cell_type": "code",
   "execution_count": 49,
   "id": "67ef3121-599f-45c0-833e-9671440abc3b",
   "metadata": {},
   "outputs": [
    {
     "name": "stdout",
     "output_type": "stream",
     "text": [
      "root\n",
      " |-- postcode_1: string (nullable = true)\n",
      " |-- postcode_2: string (nullable = true)\n",
      " |-- postcode_3: string (nullable = true)\n",
      " |-- easting: string (nullable = true)\n",
      " |-- northing: string (nullable = true)\n",
      " |-- positional_quality: string (nullable = true)\n",
      " |-- local_authority_name: string (nullable = true)\n",
      " |-- longitude: string (nullable = true)\n",
      " |-- latitude: string (nullable = true)\n",
      " |-- spatial_accuracy: string (nullable = true)\n",
      " |-- last_uploaded: string (nullable = true)\n",
      " |-- location: string (nullable = true)\n",
      " |-- socrata_id: string (nullable = true)\n",
      "\n"
     ]
    }
   ],
   "source": [
    "post_code_df.transform(with_std_column_names()).printSchema()"
   ]
  },
  {
   "cell_type": "code",
   "execution_count": 52,
   "id": "f323dfc9-d327-4516-9d12-bc0073779d4f",
   "metadata": {},
   "outputs": [
    {
     "data": {
      "text/plain": [
       "DataFrame[Postcode 1: string, Postcode 2: string, Postcode 3: string, Easting: string, Northing: string, Positional Quality: string, Local Authority Name: string, Longitude: string, Latitude: string, Spatial Accuracy: string, Last Uploaded: string, Location: string, Socrata ID: string]"
      ]
     },
     "execution_count": 52,
     "metadata": {},
     "output_type": "execute_result"
    }
   ],
   "source": [
    "post_code_df"
   ]
  },
  {
   "cell_type": "code",
   "execution_count": 58,
   "id": "22254fa4-0806-4dbd-834b-6b9bdee26b5b",
   "metadata": {},
   "outputs": [],
   "source": [
    "post_code_df=post_code_df\\\n",
    ".transform(with_std_column_names())\\\n",
    ".withColumn(\"post_code_geo\", f.expr(\"\"\"CONCAT(\"SRID=4326;POINT(\", latitude,\" \",longitude,\")\") \"\"\")) \\\n",
    ".selectExpr(\n",
    "    \"postcode_1\",\n",
    "    \"postcode_2\",\n",
    "    \"postcode_3\",\n",
    "    \"local_authority_name\",\n",
    "    \"post_code_geo\"\n",
    ")"
   ]
  },
  {
   "cell_type": "code",
   "execution_count": 3,
   "id": "1dec5ee8-725d-4218-a8a5-3ec8fe75de46",
   "metadata": {},
   "outputs": [],
   "source": [
    "from utils.spark_utils import get_local_spark_session\n",
    "from utils.spark_utils import cleanup_col_name, with_std_column_names\n",
    "\n",
    "spark = get_local_spark_session()"
   ]
  },
  {
   "cell_type": "code",
   "execution_count": 36,
   "id": "b9403082-0279-4666-9130-8ff2983c6bda",
   "metadata": {},
   "outputs": [],
   "source": [
    "df = spark.read.format('csv').option(\"header\", \"true\").load(\"/mnt/c/users/lohith/Downloads/kentPolice/2021-12/2021-12-kent-street.csv\")\n",
    "df = df.transform(with_std_column_names())"
   ]
  },
  {
   "cell_type": "code",
   "execution_count": null,
   "id": "6e590f34-6d25-411c-9dd2-68899b8b3abb",
   "metadata": {},
   "outputs": [
    {
     "data": {
      "text/plain": [
       "StructType(List(StructField(Crime ID,StringType,true),StructField(Month,StringType,true),StructField(Reported by,StringType,true),StructField(Falls within,StringType,true),StructField(Longitude,StringType,true),StructField(Latitude,StringType,true),StructField(Location,StringType,true),StructField(LSOA code,StringType,true),StructField(LSOA name,StringType,true),StructField(Crime type,StringType,true),StructField(Last outcome category,StringType,true),StructField(Context,StringType,true)))"
      ]
     },
     "execution_count": 14,
     "metadata": {},
     "output_type": "execute_result"
    }
   ],
   "source": [
    "schema = df.schema\n",
    "schema"
   ]
  },
  {
   "cell_type": "code",
   "execution_count": 37,
   "id": "5c001542-7edb-4717-a14b-abaa895c1708",
   "metadata": {},
   "outputs": [],
   "source": [
    "df = spark.read.format('csv').option(\"header\", \"true\").load(\"/mnt/c/users/lohith/Downloads/AllCrime/2019-03\")\n"
   ]
  },
  {
   "cell_type": "code",
   "execution_count": 42,
   "id": "77353e3d-f6d1-4f37-a519-129b5351ed24",
   "metadata": {},
   "outputs": [],
   "source": [
    "from pyspark.sql import functions as f\n",
    "\n",
    "# https://www.calculator.net/distance-calculator.html?type=3&la1=53.534436&lo1=-2.239941&la2=53.536556&lo2=-2.23603&ctype=dec&lad1=38&lam1=53&las1=51.36&lau1=n&lod1=77&lom1=2&los1=11.76&lou1=w&lad2=39&lam2=56&las2=58.56&lau2=n&lod2=75&lom2=9&los2=1.08&lou2=w&x=71&y=23#latlog\n",
    "\n",
    "crime_df = df\\\n",
    ".transform(with_std_column_names())\\\n",
    ".withColumn(\"log\", f.expr(\"CAST(longitude AS DOUBLE)\"))\\\n",
    ".withColumn(\"lat\", f.expr(\"CAST(latitude AS DOUBLE)\"))\\\n",
    ".withColumn(\"point_geo\", f.expr(\"\"\"CONCAT(\"SRID=4326;POINT(\", latitude,\" \",longitude,\")\") \"\"\")) \\\n",
    ".selectExpr(\n",
    "    \"crime_id\",\n",
    "    \"month\",\n",
    "    \"reported_by\",\n",
    "    \"crime_type\",\n",
    "    \"log\",\n",
    "    \"lat\",\n",
    "    \"point_geo\"\n",
    ")"
   ]
  },
  {
   "cell_type": "code",
   "execution_count": 33,
   "id": "2f252950-ff11-40bd-8930-77eb2c8f6223",
   "metadata": {},
   "outputs": [
    {
     "name": "stderr",
     "output_type": "stream",
     "text": [
      "                                                                                \r"
     ]
    }
   ],
   "source": [
    "df.coalesce(1).write.format('parquet').mode(\"overwrite\").save(\"/mnt/c/users/lohith/Downloads/AllCrime/201903_parquet\")\n",
    "# 573,111"
   ]
  },
  {
   "cell_type": "code",
   "execution_count": 1,
   "id": "18f8ab01-3aae-421c-8cab-80b0640fe8f9",
   "metadata": {},
   "outputs": [
    {
     "name": "stderr",
     "output_type": "stream",
     "text": [
      "22/02/22 15:54:27 WARN Utils: Your hostname, DESKTOP-9QGN9QQ resolves to a loopback address: 127.0.1.1; using 172.24.240.189 instead (on interface eth0)\n",
      "22/02/22 15:54:27 WARN Utils: Set SPARK_LOCAL_IP if you need to bind to another address\n",
      "WARNING: An illegal reflective access operation has occurred\n",
      "WARNING: Illegal reflective access by org.apache.spark.unsafe.Platform (file:/opt/spark-3.1.2-bin-hadoop3.2/jars/spark-unsafe_2.12-3.1.2.jar) to constructor java.nio.DirectByteBuffer(long,int)\n",
      "WARNING: Please consider reporting this to the maintainers of org.apache.spark.unsafe.Platform\n",
      "WARNING: Use --illegal-access=warn to enable warnings of further illegal reflective access operations\n",
      "WARNING: All illegal access operations will be denied in a future release\n",
      "22/02/22 15:54:29 WARN NativeCodeLoader: Unable to load native-hadoop library for your platform... using builtin-java classes where applicable\n",
      "Using Spark's default log4j profile: org/apache/spark/log4j-defaults.properties\n",
      "Setting default log level to \"WARN\".\n",
      "To adjust logging level use sc.setLogLevel(newLevel). For SparkR, use setLogLevel(newLevel).\n"
     ]
    }
   ],
   "source": [
    "from pyspark.sql import SparkSession\n",
    "\n",
    "PROJECT_ROOT = '/home/basal/excelanalysis'\n",
    "SPARK_NUM_PARTITIONS = 8\n",
    "\n",
    "DEUTILS_PATH = str(PROJECT_ROOT) + '/resources/DqProfiler-1.0-SNAPSHOT-jar-with-dependencies.jar'\n",
    "POSTGRES_JDBC = str(PROJECT_ROOT) + '/resources/postgresql-42.3.3.jar'\n",
    "\n",
    "spark = SparkSession \\\n",
    ".builder \\\n",
    ".appName(f\"someThing\") \\\n",
    ".config(\"spark.sql.shuffle.partitions\", f\"{SPARK_NUM_PARTITIONS}\") \\\n",
    ".config('spark.jars', f\"{DEUTILS_PATH},{POSTGRES_JDBC}\") \\\n",
    ".config('spark.sql.session.timeZone', 'UTC') \\\n",
    ".config('spark.sql.execution.arrow.pyspark.enabled', True) \\\n",
    ".config('spark.debug.maxToStringFields', 0) \\\n",
    ".getOrCreate()\n"
   ]
  },
  {
   "cell_type": "code",
   "execution_count": 2,
   "id": "c7999ea9-dfa3-4291-bb57-db5e79a603fc",
   "metadata": {},
   "outputs": [
    {
     "data": {
      "text/plain": [
       "'/home/basal/excelanalysis/resources/DqProfiler-1.0-SNAPSHOT-jar-with-dependencies.jar,/home/basal/excelanalysis/resources/postgresql-42.3.3.jar'"
      ]
     },
     "execution_count": 2,
     "metadata": {},
     "output_type": "execute_result"
    }
   ],
   "source": [
    "spark.conf.get(\"spark.jars\")"
   ]
  },
  {
   "cell_type": "code",
   "execution_count": null,
   "id": "233fa641-83a8-44a4-8484-a7e91e3dfca5",
   "metadata": {},
   "outputs": [],
   "source": [
    "properties = {\n",
    "    \"user\": \"postgres\", \n",
    "    \"password\": \"postgres5432\",\n",
    "    \"driver\": \"org.postgresql.Driver\"\n",
    "  }"
   ]
  },
  {
   "cell_type": "code",
   "execution_count": 2,
   "id": "4b94137a-4419-4548-a37b-3c4a9dbbd098",
   "metadata": {},
   "outputs": [],
   "source": [
    "jdbcDF = spark.read \\\n",
    "    .format(\"jdbc\") \\\n",
    "    .option(\"driver\", \"org.postgresql.Driver\") \\\n",
    "    .option(\"url\", \"jdbc:postgresql://localhost:5432/osdata\") \\\n",
    "    .option(\"dbtable\", \"airports\") \\\n",
    "    .option(\"user\", \"postgres\") \\\n",
    "    .option(\"password\", \"post5432\") \\\n",
    "    .load()"
   ]
  },
  {
   "cell_type": "code",
   "execution_count": 43,
   "id": "17e7e9c7-66ce-4271-badf-12eddfbcb2ed",
   "metadata": {},
   "outputs": [
    {
     "name": "stderr",
     "output_type": "stream",
     "text": [
      "                                                                                \r"
     ]
    }
   ],
   "source": [
    "crime_df.write \\\n",
    "    .mode(\"append\") \\\n",
    "    .format(\"jdbc\") \\\n",
    "    .option(\"SaveMode\", \"overwrite\") \\\n",
    "    .option(\"driver\", \"org.postgresql.Driver\") \\\n",
    "    .option(\"url\", \"jdbc:postgresql://localhost:5432/postgis_db\") \\\n",
    "    .option(\"dbtable\", \"uk_crime_201903\") \\\n",
    "    .option(\"user\", \"postgres\") \\\n",
    "    .option(\"password\", \"post5432\") \\\n",
    "    .save()"
   ]
  },
  {
   "cell_type": "code",
   "execution_count": 59,
   "id": "b00e43f1-817c-4211-b13a-61e10e2e0ea5",
   "metadata": {},
   "outputs": [
    {
     "name": "stderr",
     "output_type": "stream",
     "text": [
      "                                                                                \r"
     ]
    }
   ],
   "source": [
    "post_code_df.write \\\n",
    "    .mode(\"append\") \\\n",
    "    .format(\"jdbc\") \\\n",
    "    .option(\"SaveMode\", \"overwrite\") \\\n",
    "    .option(\"driver\", \"org.postgresql.Driver\") \\\n",
    "    .option(\"url\", \"jdbc:postgresql://localhost:5432/postgis_db\") \\\n",
    "    .option(\"dbtable\", \"post_code\") \\\n",
    "    .option(\"user\", \"postgres\") \\\n",
    "    .option(\"password\", \"post5432\") \\\n",
    "    .save()"
   ]
  },
  {
   "cell_type": "code",
   "execution_count": 60,
   "id": "a3fbf729-5149-44d3-9a58-7853e1e7d6d5",
   "metadata": {},
   "outputs": [
    {
     "data": {
      "text/plain": [
       "1770315"
      ]
     },
     "execution_count": 60,
     "metadata": {},
     "output_type": "execute_result"
    }
   ],
   "source": [
    "post_code_df.count()"
   ]
  }
 ],
 "metadata": {
  "kernelspec": {
   "display_name": "Python 3 (ipykernel)",
   "language": "python",
   "name": "python3"
  },
  "language_info": {
   "codemirror_mode": {
    "name": "ipython",
    "version": 3
   },
   "file_extension": ".py",
   "mimetype": "text/x-python",
   "name": "python",
   "nbconvert_exporter": "python",
   "pygments_lexer": "ipython3",
   "version": "3.8.5"
  }
 },
 "nbformat": 4,
 "nbformat_minor": 5
}
