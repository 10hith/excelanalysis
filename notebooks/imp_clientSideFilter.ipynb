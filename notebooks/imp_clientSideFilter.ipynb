{
 "cells": [
  {
   "cell_type": "code",
   "execution_count": 2,
   "id": "9c943bb4-45b3-4202-9230-ec6495c9fd94",
   "metadata": {},
   "outputs": [],
   "source": [
    "import requests\n",
    "import json\n",
    "import pandas as pd"
   ]
  },
  {
   "cell_type": "code",
   "execution_count": 7,
   "id": "55978fde-1b8b-49f9-bdfd-85f2c42c02b7",
   "metadata": {},
   "outputs": [],
   "source": [
    "crime_type_map_dict={\n",
    "0:'Violence and sexual offences',\n",
    "1:'Anti-social behaviour',\n",
    "2:'Public order',\n",
    "3:'Criminal damage and arson',\n",
    "4:'Other theft',\n",
    "5:'Vehicle crime',\n",
    "6:'Shoplifting',\n",
    "7:'Burglary',\n",
    "8:'Drugs',\n",
    "9:'Other crime',\n",
    "10:'Bicycle theft',\n",
    "11:'Theft from the person',\n",
    "12:'Robbery',\n",
    "13:'Possession of weapons'\n",
    "}"
   ]
  },
  {
   "cell_type": "code",
   "execution_count": 19,
   "id": "179f4cc1-1957-441f-848a-76eeed9f959e",
   "metadata": {},
   "outputs": [
    {
     "data": {
      "text/plain": [
       "True"
      ]
     },
     "execution_count": 19,
     "metadata": {},
     "output_type": "execute_result"
    }
   ],
   "source": []
  },
  {
   "cell_type": "code",
   "execution_count": 8,
   "id": "ba816f2c-13ab-4b5c-aab4-c140378c9c8a",
   "metadata": {},
   "outputs": [
    {
     "name": "stdout",
     "output_type": "stream",
     "text": [
      "CPU times: user 12.8 ms, sys: 0 ns, total: 12.8 ms\n",
      "Wall time: 477 ms\n"
     ]
    }
   ],
   "source": [
    "%%time \n",
    "crime_points_req = requests.get(\n",
    "    f'http://172.30.80.224:8000/api/crime/crime_points',\n",
    "    {\"lat\": 51.37570431724386, \"lon\":0.09920879452076632, \"radius\":1, \"lad_cd\":\"E09000006\"}\n",
    ")\n",
    "crime_points_dict = [json.loads(x) for x in json.loads(crime_points_req.text)]\n",
    "# print(crime_points_dict)\n",
    "crime_pdf = pd.DataFrame.from_dict(crime_points_dict)\n",
    "crime_pdf[\"crime_type\"]=crime_pdf[\"crime_type_cd\"].map(crime_type_map_dict)"
   ]
  },
  {
   "cell_type": "code",
   "execution_count": 9,
   "id": "0e5d88f4-f001-434e-ab97-5e4248e8724b",
   "metadata": {},
   "outputs": [
    {
     "data": {
      "text/plain": [
       "mnth             705\n",
       "crime_type_cd    705\n",
       "lat              705\n",
       "lon              705\n",
       "postcode         705\n",
       "lad_cd           705\n",
       "distance_        705\n",
       "radius           705\n",
       "tooltip          705\n",
       "crime_type       705\n",
       "dtype: int64"
      ]
     },
     "execution_count": 9,
     "metadata": {},
     "output_type": "execute_result"
    }
   ],
   "source": [
    "crime_pdf.count()"
   ]
  },
  {
   "cell_type": "code",
   "execution_count": 10,
   "id": "b1188cb6-eda9-4d30-adcb-538f17efaa0a",
   "metadata": {},
   "outputs": [],
   "source": [
    "crime_pdf.to_pickle(\"./toyData.pkl\")"
   ]
  },
  {
   "cell_type": "code",
   "execution_count": 11,
   "id": "d6a5ff9f-ab50-4e0f-88fa-08e70a90b863",
   "metadata": {},
   "outputs": [
    {
     "name": "stdout",
     "output_type": "stream",
     "text": [
      "CPU times: user 4.15 ms, sys: 0 ns, total: 4.15 ms\n",
      "Wall time: 2.37 ms\n"
     ]
    }
   ],
   "source": [
    "%%time \n",
    "crime_pdf=pd.read_pickle(\"./toyData.pkl\")"
   ]
  },
  {
   "cell_type": "code",
   "execution_count": 12,
   "id": "db46f706-900d-4b0f-8279-0d87a647bb94",
   "metadata": {},
   "outputs": [
    {
     "data": {
      "text/plain": [
       "mnth             705\n",
       "crime_type_cd    705\n",
       "lat              705\n",
       "lon              705\n",
       "postcode         705\n",
       "lad_cd           705\n",
       "distance_        705\n",
       "radius           705\n",
       "tooltip          705\n",
       "crime_type       705\n",
       "dtype: int64"
      ]
     },
     "execution_count": 12,
     "metadata": {},
     "output_type": "execute_result"
    }
   ],
   "source": [
    "crime_pdf.count()"
   ]
  },
  {
   "cell_type": "markdown",
   "id": "710ff272-c375-4610-b4c6-447c5e5f9365",
   "metadata": {},
   "source": [
    "# LocateControl"
   ]
  },
  {
   "cell_type": "code",
   "execution_count": 69,
   "id": "4330bf1a-0c3c-4c86-8c78-d733b12c61c0",
   "metadata": {
    "tags": []
   },
   "outputs": [
    {
     "name": "stdout",
     "output_type": "stream",
     "text": [
      "Dash app running on http://127.0.0.1:8050/\n"
     ]
    }
   ],
   "source": [
    "import dash_leaflet as dl\n",
    "from dash_extensions.enrich import html, DashProxy\n",
    "import dash_leaflet.express as dlx\n",
    "from jupyter_dash import JupyterDash\n",
    "from dash_extensions.javascript import assign\n",
    "\n",
    "from dash import dcc, callback, Input, Output\n",
    "from time import sleep\n",
    "# polygon = dl.Polygon(positions=[\n",
    "#     [50.72485912389739,-3.533088805791474], \n",
    "#     [50.72483686731482, -3.5333147806665437], \n",
    "#     [50.724770952875105, -3.5335320714538927]\n",
    "# ])\n",
    "\n",
    "app=JupyterDash()\n",
    "\n",
    "user_click_icon ={\n",
    "    \"iconUrl\": \"https://raw.githubusercontent.com/10hith/excelanalysis/release/aio/app/dash_apps/assets/point_select.ico\",\n",
    "    \"iconSize\": [20, 30],\n",
    "    \"iconAnchor\": [20, 20],\n",
    "    \"popupAnchor\": [-10, -50],\n",
    "    \"shadowSize\": [41, 41]\n",
    "    }\n",
    "\n",
    "\n",
    "# 40, 40 works; but no other size works\n",
    "red_icon_func = assign(\"\"\"function(feature, latlng){\n",
    "const flag = L.icon({iconUrl: `https://raw.githubusercontent.com/pointhi/leaflet-color-markers/master/img/marker-icon-red.png`, iconSize: [20,30]});\n",
    "return L.marker(latlng, {icon: flag});\n",
    "}\"\"\")\n",
    "\n",
    "gold_icon_func = assign(\"\"\"function(feature, latlng){\n",
    "const flag = L.icon({iconUrl: `https://raw.githubusercontent.com/pointhi/leaflet-color-markers/master/img/marker-icon-gold.png`, iconSize: [20,30]});\n",
    "return L.marker(latlng, {icon: flag});\n",
    "}\"\"\")\n",
    "\n",
    "# https://raw.githubusercontent.com/pointhi/leaflet-color-markers/master/img/marker-icon-red.png\n",
    "\n",
    "# blue_icon ={\n",
    "#     \"iconUrl\": \"https://raw.githubusercontent.com/pointhi/leaflet-color-markers/master/img/marker-icon-blue.png\",\n",
    "#     \"iconSize\": [40, 40],\n",
    "#     \"iconAnchor\": [20, 20],\n",
    "#     \"popupAnchor\": [-10, -50],\n",
    "#     \"shadowSize\": [41, 41]\n",
    "#     }\n",
    "\n",
    "# selected_point=dl.Marker(\n",
    "#         position=[click_lat_lng[0], click_lat_lng[1]], children=dl.Tooltip(f\"{click_lat_lng}\"), icon=user_click_icon\n",
    "#         )\n",
    "\n",
    "big_gree_icon='https://raw.githubusercontent.com/pointhi/leaflet-color-markers/master/img/marker-icon-2x-green.png'\n",
    "\n",
    "crime_type_0=[dl.GeoJSON(\n",
    "    data=dlx.dicts_to_geojson(crime_pdf.query(\"crime_type_cd==0\").to_dict(\"records\")),\n",
    "    cluster=True,\n",
    "    spiderfyOnMaxZoom=True,\n",
    "    options=dict(pointToLayer=gold_icon_func)\n",
    ")]\n",
    "crime_type_1=[dl.GeoJSON(\n",
    "    data=dlx.dicts_to_geojson(crime_pdf.query(\"crime_type_cd==1\").to_dict(\"records\")),\n",
    "    cluster=True,\n",
    "    options=dict(pointToLayer=red_icon_func)\n",
    ")]\n",
    "                    \n",
    "app.layout = html.Div([\n",
    "    \n",
    "    dl.Map([\n",
    "        dl.TileLayer(),\n",
    "        m_selectedPoint := dl.LayerGroup(),\n",
    "        m_circleMarker := dl.LayerGroup(),\n",
    "        dl.LayersControl([\n",
    "                dl.Overlay(dl.LayerGroup(crime_type_0), name=\"type_0\", checked=True),\n",
    "                dl.Overlay(dl.LayerGroup(crime_type_1), name=\"type_1\", checked=False)\n",
    "        ])\n",
    "        ], \n",
    "        zoom=7, id=\"map\", center=(51.35421253175895,0.0960463563716222), style={'width': '100%', 'height': '50vh', 'margin': \"auto\", \"display\": \"block\"}\n",
    "    ),\n",
    "    _selectedPoint:=dcc.Store(id=\"_selectedPoint\", data=[]),\n",
    "    debugDiv:=html.Div(id=\"debugDiv\", children=\"Hi there MFucka\"),\n",
    "])\n",
    "\n",
    "@callback(\n",
    "    [\n",
    "        Output(\"_selectedPoint\", \"data\")\n",
    "    ],\n",
    "    [Input(\"map\", \"click_lat_lng\")],\n",
    "    prevent_initial_call=True\n",
    "    )\n",
    "def store_selected_point(click_lat_lng):\n",
    "    lat, lon = click_lat_lng[0], click_lat_lng[1]\n",
    "    return [{\"lat\": lat, \"lon\": lon}]\n",
    "\n",
    "@callback(\n",
    "    [\n",
    "        Output(m_selectedPoint, \"children\")\n",
    "    ],\n",
    "    [Input(\"_selectedPoint\", \"data\")],\n",
    "    prevent_initial_call=True\n",
    "    )\n",
    "def display_point_on_select(point_dict):\n",
    "    lat=point_dict[\"lat\"]\n",
    "    lon=point_dict[\"lon\"]\n",
    "    point_marker = dl.Marker(\n",
    "        position=[lat,lon], children=dl.Tooltip(f\"{lat,lon}\"), icon=user_click_icon\n",
    "        )\n",
    "    return [point_marker]\n",
    "\n",
    "\n",
    "@callback(\n",
    "    [\n",
    "        Output(m_circleMarker, \"children\")\n",
    "    ],\n",
    "    [Input(\"_selectedPoint\", \"data\")],\n",
    "    prevent_initial_call=True\n",
    "    )\n",
    "def display_point_on_select(point_dict):\n",
    "    lat=point_dict[\"lat\"]\n",
    "    lon=point_dict[\"lon\"]\n",
    "    sleep(1)\n",
    "    circle_pointer=dl.Circle(center=[lat, lon],radius=322,children=dl.Tooltip(\"0.2 Mile radius\"))\n",
    "    return [circle_pointer]\n",
    "\n",
    "\n",
    "if __name__ == '__main__':\n",
    "    app.run_server(dev_tools_hot_reload=True, mode='external')"
   ]
  },
  {
   "cell_type": "code",
   "execution_count": null,
   "id": "5ebe3cf2-d6eb-4b76-b8b7-ea31eee095bc",
   "metadata": {},
   "outputs": [],
   "source": []
  },
  {
   "cell_type": "markdown",
   "id": "7f3a5c0e-a93d-4105-b97a-396cbdc4e3a9",
   "metadata": {},
   "source": [
    "# client side filter of dcc.store"
   ]
  },
  {
   "cell_type": "code",
   "execution_count": 13,
   "id": "4d9d314f-51a6-4cbd-ac03-2797cf66463d",
   "metadata": {},
   "outputs": [
    {
     "data": {
      "text/plain": [
       "mnth              object\n",
       "crime_type_cd      int64\n",
       "lat              float64\n",
       "lon              float64\n",
       "postcode          object\n",
       "lad_cd            object\n",
       "distance_        float64\n",
       "radius            object\n",
       "tooltip           object\n",
       "crime_type        object\n",
       "dtype: object"
      ]
     },
     "execution_count": 13,
     "metadata": {},
     "output_type": "execute_result"
    }
   ],
   "source": [
    "import pandas as pd \n",
    "\n",
    "crime_pdf=pd.read_pickle(\"./toyData.pkl\")\n",
    "crime_pdf.dtypes"
   ]
  },
  {
   "cell_type": "code",
   "execution_count": 15,
   "id": "eb4d7b9e-7551-4823-9769-cd7a4374afe1",
   "metadata": {},
   "outputs": [
    {
     "data": {
      "text/plain": [
       "array(['2021-10-01', '2021-11-01', '2021-12-01'], dtype=object)"
      ]
     },
     "execution_count": 15,
     "metadata": {},
     "output_type": "execute_result"
    }
   ],
   "source": [
    "crime_pdf[\"mnth\"].unique()"
   ]
  },
  {
   "cell_type": "markdown",
   "id": "abd30264-9113-436b-93cc-144c2dc4ab8e",
   "metadata": {},
   "source": [
    "# Got Danfo working :-) "
   ]
  },
  {
   "cell_type": "code",
   "execution_count": 111,
   "id": "b761b892-34b6-4958-b39f-979031b725b4",
   "metadata": {},
   "outputs": [
    {
     "name": "stdout",
     "output_type": "stream",
     "text": [
      "Dash app running on http://127.0.0.1:8000/\n"
     ]
    }
   ],
   "source": [
    "import dash_leaflet as dl\n",
    "from dash_extensions.enrich import html, DashProxy\n",
    "import dash_leaflet.express as dlx\n",
    "from jupyter_dash import JupyterDash\n",
    "from dash_extensions.javascript import assign\n",
    "\n",
    "from dash import dcc, callback, Input, Output, State\n",
    "from time import sleep\n",
    "# polygon = dl.Polygon(positions=[\n",
    "#     [50.72485912389739,-3.533088805791474], \n",
    "#     [50.72483686731482, -3.5333147806665437], \n",
    "#     [50.724770952875105, -3.5335320714538927]\n",
    "# ])\n",
    "\n",
    "# external_stylesheets=\"https://cdn.jsdelivr.net/npm/danfojs@1.0.2/lib/bundle.min.js\"\n",
    "\n",
    "app=JupyterDash()\n",
    "\n",
    "# https://cdn.jsdelivr.net/npm/danfojs@1.0.2/lib/bundle.min.js\n",
    "\n",
    "app.layout = html.Div([\n",
    "    debugDiv:=html.Div(),\n",
    "    html.P([\n",
    "        '''Data Profiling is the process of collecting statistics or informative summaries about that data.'''\n",
    "    ], id=\"htmlP\"),\n",
    "    html.Div(id=\"debugDiv1\"),\n",
    "    html.Div(id=\"debugDiv2\"),\n",
    "    dcc.Dropdown(id=\"mnthDropDown\"),\n",
    "    html.Div(id=\"plot_div\"),\n",
    "    html.Div(id=\"hist_div\"),\n",
    "    dcc.Store(id=\"myStore\",data=crime_pdf.to_dict(\"records\")),\n",
    "    dcc.Store(id=\"jsOutput\"),\n",
    "    html.Button(id='Submit', n_clicks=0),\n",
    "])\n",
    "\n",
    "# @callback(Output(debugDiv, \"children\"), \n",
    "#           Input(\"myStore\", \"data\")\n",
    "#          )\n",
    "# def filter_callback(data):\n",
    "#     return [data[0][\"website\"]]\n",
    "\n",
    "\n",
    "\n",
    "# app.clientside_callback(\n",
    "#     \"\"\"\n",
    "#     function(n_clicks,data) {\n",
    "#     var filter_data=data.filter(\n",
    "#         function(item){return item.radius==\".2\" && [0].includes(item.crime_type_cd) && [\"2021-10-01\",\"2021-12-01\"].includes(item.mnth)}\n",
    "#         );\n",
    "#     console.log(filter_data);\n",
    "#     return JSON.stringify(filter_data);\n",
    "#     }\n",
    "#     \"\"\",\n",
    "#     Output('debugDiv1', 'children'),\n",
    "#     Input(\"Submit\", \"n_clicks\"),\n",
    "#     State(\"myStore\", \"data\"),\n",
    "#     prevent_initial_call=True\n",
    "# )\n",
    "\n",
    "# app.clientside_callback(\n",
    "#     \"\"\"\n",
    "#     function(n_clicks, data) {\n",
    "#     let df = new dfd.DataFrame(data)\n",
    "    \n",
    "#     df.plot(\"plot_div\").table();\n",
    "#     df['crime_type_cd'].plot(\"hist_div\").hist();\n",
    "#     let mnthArry=df['mnth'].unique()\n",
    "#     console.log(mnthArry)\n",
    "#     return [JSON.stringify(df)], mnthArry\n",
    "#     }\n",
    "#     \"\"\",\n",
    "#     [\n",
    "#         Output('debugDiv1', 'children'),\n",
    "#         Output(\"mnthDropDown\",\"options\")\n",
    "#     ],\n",
    "#     Input(\"Submit\", \"n_clicks\"),\n",
    "#     State(\"myStore\", \"data\"),\n",
    "#     prevent_initial_call=True\n",
    "# )\n",
    "\n",
    "# # Dropdown works when you pass a list\n",
    "# app.clientside_callback(\n",
    "#     \"\"\"\n",
    "#     function(n_clicks, data) {\n",
    "#     let df = new dfd.DataFrame(data)\n",
    "    \n",
    "#     df.plot(\"plot_div\").table();\n",
    "#     df['crime_type_cd'].plot(\"hist_div\").hist();\n",
    "#     let mnthArry=df[\"mnth\"].unique()\n",
    "#     console.log(\"The data type of mnthArry is =>\")\n",
    "#     console.log(typeof df);\n",
    "#     return [['wow', 'this', 'worked', 'before']];\n",
    "#     }\n",
    "#     \"\"\",\n",
    "#     [\n",
    "#         Output('mnthDropDown', 'options')\n",
    "#     ],\n",
    "#     Input(\"Submit\", \"n_clicks\"),\n",
    "#     State(\"myStore\", \"data\")\n",
    "# )\n",
    "\n",
    "# Dropdown works when you pass a list\n",
    "app.clientside_callback(\n",
    "    \"\"\"\n",
    "    function(n_clicks, data) {\n",
    "    return [\n",
    "        Array.from(new Set(data.map((x)=>x.mnth))), \n",
    "        Object.values(data).length\n",
    "        ];\n",
    "    }\n",
    "    \"\"\",\n",
    "    [\n",
    "        Output('mnthDropDown', 'options'),\n",
    "        Output('debugDiv2', 'children')\n",
    "    ],\n",
    "    Input(\"Submit\", \"n_clicks\"),\n",
    "    State(\"myStore\", \"data\"),\n",
    "    prevent_initial_call=True\n",
    ")\n",
    "\n",
    "\n",
    "# @callback(Output(\"debugDiv1\", \"children\"), \n",
    "#           Input(\"jsOutput\", \"data\")\n",
    "#          )\n",
    "# def display_js_output(data):\n",
    "#     return [str(data)]\n",
    "\n",
    "\n",
    "if __name__ == '__main__':\n",
    "    app.run_server(dev_tools_hot_reload=True, port=8000,mode='external')"
   ]
  }
 ],
 "metadata": {
  "kernelspec": {
   "display_name": "Python 3 (ipykernel)",
   "language": "python",
   "name": "python3"
  },
  "language_info": {
   "codemirror_mode": {
    "name": "ipython",
    "version": 3
   },
   "file_extension": ".py",
   "mimetype": "text/x-python",
   "name": "python",
   "nbconvert_exporter": "python",
   "pygments_lexer": "ipython3",
   "version": "3.8.5"
  }
 },
 "nbformat": 4,
 "nbformat_minor": 5
}
