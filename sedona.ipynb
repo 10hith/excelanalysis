{
 "cells": [
  {
   "cell_type": "code",
   "execution_count": 1,
   "id": "18f8ab01-3aae-421c-8cab-80b0640fe8f9",
   "metadata": {},
   "outputs": [
    {
     "name": "stderr",
     "output_type": "stream",
     "text": [
      "22/02/24 16:16:45 WARN Utils: Your hostname, DESKTOP-9QGN9QQ resolves to a loopback address: 127.0.1.1; using 172.21.88.145 instead (on interface eth0)\n",
      "22/02/24 16:16:45 WARN Utils: Set SPARK_LOCAL_IP if you need to bind to another address\n",
      "WARNING: An illegal reflective access operation has occurred\n",
      "WARNING: Illegal reflective access by org.apache.spark.unsafe.Platform (file:/opt/spark-3.1.2-bin-hadoop3.2/jars/spark-unsafe_2.12-3.1.2.jar) to constructor java.nio.DirectByteBuffer(long,int)\n",
      "WARNING: Please consider reporting this to the maintainers of org.apache.spark.unsafe.Platform\n",
      "WARNING: Use --illegal-access=warn to enable warnings of further illegal reflective access operations\n",
      "WARNING: All illegal access operations will be denied in a future release\n",
      "22/02/24 16:16:46 WARN NativeCodeLoader: Unable to load native-hadoop library for your platform... using builtin-java classes where applicable\n",
      "Using Spark's default log4j profile: org/apache/spark/log4j-defaults.properties\n",
      "Setting default log level to \"WARN\".\n",
      "To adjust logging level use sc.setLogLevel(newLevel). For SparkR, use setLogLevel(newLevel).\n",
      "22/02/24 16:16:47 WARN Utils: Service 'SparkUI' could not bind on port 4040. Attempting port 4041.\n",
      "22/02/24 16:16:47 WARN Utils: Service 'SparkUI' could not bind on port 4041. Attempting port 4042.\n"
     ]
    }
   ],
   "source": [
    "from pyspark.sql import SparkSession\n",
    "from sedona.register import SedonaRegistrator\n",
    "from sedona.utils import SedonaKryoRegistrator, KryoSerializer\n",
    "\n",
    "PROJECT_ROOT = '/home/basal/excelanalysis'\n",
    "SPARK_NUM_PARTITIONS = 8\n",
    "\n",
    "DEUTILS_PATH = str(PROJECT_ROOT) + '/resources/DqProfiler-1.0-SNAPSHOT-jar-with-dependencies.jar'\n",
    "POSTGRES_JDBC = str(PROJECT_ROOT) + '/resources/postgresql-42.3.3.jar'\n",
    "\n",
    "# .config(\"spark.sql.shuffle.partitions\", f\"{SPARK_NUM_PARTITIONS}\") \\\n",
    "\n",
    "spark = SparkSession \\\n",
    ".builder \\\n",
    ".appName(f\"someThing\") \\\n",
    ".config('spark.jars', f\"{DEUTILS_PATH},{POSTGRES_JDBC},/home/basal/excelanalysis/resources/geotools-wrapper-1.1.0-25.2.jar,/home/basal/excelanalysis/resources/sedona-python-adapter-3.0_2.12-1.1.1-incubating.jar\")\\\n",
    ".config(\"spark.serializer\", KryoSerializer.getName)\\\n",
    ".config(\"spark.kryo.registrator\", SedonaKryoRegistrator.getName)\\\n",
    ".config('spark.sql.session.timeZone', 'UTC') \\\n",
    ".config('spark.sql.execution.arrow.pyspark.enabled', True) \\\n",
    ".config('spark.debug.maxToStringFields', 0) \\\n",
    ".getOrCreate()\n"
   ]
  },
  {
   "cell_type": "code",
   "execution_count": 2,
   "id": "c7999ea9-dfa3-4291-bb57-db5e79a603fc",
   "metadata": {},
   "outputs": [
    {
     "data": {
      "text/plain": [
       "True"
      ]
     },
     "execution_count": 2,
     "metadata": {},
     "output_type": "execute_result"
    }
   ],
   "source": [
    "SedonaRegistrator.registerAll(spark)"
   ]
  },
  {
   "cell_type": "code",
   "execution_count": 4,
   "id": "f76f13ca-e0e0-41c4-ade1-45d19cefa658",
   "metadata": {},
   "outputs": [
    {
     "name": "stderr",
     "output_type": "stream",
     "text": [
      "[Stage 2:>                                                          (0 + 1) / 1]\r"
     ]
    },
    {
     "name": "stdout",
     "output_type": "stream",
     "text": [
      "+-----------------+\n",
      "|  distance_in_kms|\n",
      "+-----------------+\n",
      "|2.971717521057653|\n",
      "+-----------------+\n",
      "\n"
     ]
    },
    {
     "name": "stderr",
     "output_type": "stream",
     "text": [
      "                                                                                \r"
     ]
    }
   ],
   "source": [
    "spark.sql(\"\"\"\n",
    "select ST_Distance(\n",
    "ST_Transform(ST_Point(51.354026080547015, 0.09604635637162225), 'epsg:4326', 'epsg:3857'),\n",
    "ST_Transform(ST_Point(51.36673093004155, 0.058218264444418015), 'epsg:4326', 'epsg:3857')\n",
    ")/1609 as distance_in_kms\n",
    "\"\"\").show()"
   ]
  },
  {
   "cell_type": "code",
   "execution_count": 1,
   "id": "233fa641-83a8-44a4-8484-a7e91e3dfca5",
   "metadata": {},
   "outputs": [
    {
     "name": "stderr",
     "output_type": "stream",
     "text": [
      "WARNING:root:'PYARROW_IGNORE_TIMEZONE' environment variable was not set. It is required to set this environment variable to '1' in both driver and executor sides if you use pyarrow>=2.0.0. Koalas will set it for you but it does not work if there is a Spark context already launched.\n",
      "Warning: Ignoring non-Spark config property: driver-class-path\n",
      "22/02/25 11:26:01 WARN Utils: Your hostname, DESKTOP-9QGN9QQ resolves to a loopback address: 127.0.1.1; using 172.21.85.55 instead (on interface eth0)\n",
      "22/02/25 11:26:01 WARN Utils: Set SPARK_LOCAL_IP if you need to bind to another address\n",
      "WARNING: An illegal reflective access operation has occurred\n",
      "WARNING: Illegal reflective access by org.apache.spark.unsafe.Platform (file:/opt/spark-3.1.2-bin-hadoop3.2/jars/spark-unsafe_2.12-3.1.2.jar) to constructor java.nio.DirectByteBuffer(long,int)\n",
      "WARNING: Please consider reporting this to the maintainers of org.apache.spark.unsafe.Platform\n",
      "WARNING: Use --illegal-access=warn to enable warnings of further illegal reflective access operations\n",
      "WARNING: All illegal access operations will be denied in a future release\n",
      "22/02/25 11:26:03 WARN NativeCodeLoader: Unable to load native-hadoop library for your platform... using builtin-java classes where applicable\n",
      "Using Spark's default log4j profile: org/apache/spark/log4j-defaults.properties\n",
      "Setting default log level to \"WARN\".\n",
      "To adjust logging level use sc.setLogLevel(newLevel). For SparkR, use setLogLevel(newLevel).\n",
      "22/02/25 11:26:05 WARN Utils: Service 'SparkUI' could not bind on port 4040. Attempting port 4041.\n",
      "                                                                                \r"
     ]
    }
   ],
   "source": [
    "from utils.spark_utils import cleanup_col_name, with_std_column_names, get_spatial_spark_session\n",
    "from pyspark.sql import functions as f"
   ]
  },
  {
   "cell_type": "code",
   "execution_count": 5,
   "id": "e66003c7-e96e-460e-b62b-c5b183280d89",
   "metadata": {},
   "outputs": [],
   "source": [
    "spark=get_spatial_spark_session()"
   ]
  },
  {
   "cell_type": "code",
   "execution_count": 4,
   "id": "4b94137a-4419-4548-a37b-3c4a9dbbd098",
   "metadata": {},
   "outputs": [],
   "source": [
    "# Get the Schema\n",
    "df = spark.read.format('csv').option(\"header\", \"true\").load(f\"/mnt/c/users/lohith/Downloads/AllCrime/2019-03\")\n",
    "schema = df.schema\n",
    "\n",
    "# Read data for all forces under the monthly folders\n",
    "def get_crime_month(mnth: str):\n",
    "    df = spark.read.format('csv')\\\n",
    "    .option(\"header\", \"true\")\\\n",
    "    .schema(schema) \\\n",
    "    .load(f\"/mnt/c/users/lohith/Downloads/AllCrime/{mnth}\")\n",
    "    \n",
    "    crime_df = df\\\n",
    "    .filter(\"latitude IS NOT NULL OR longitude IS NOT NULL\")\\\n",
    "    .transform(with_std_column_names())\\\n",
    "    .withColumn(\"log\", f.expr(\"CAST(longitude AS DOUBLE)\"))\\\n",
    "    .withColumn(\"lat\", f.expr(\"CAST(latitude AS DOUBLE)\"))\\\n",
    "    .withColumn(\"crime_geo\", f.expr(\"\"\"ST_Transform(ST_Point(lat, log), 'epsg:4326', 'epsg:3857') \"\"\")) \\\n",
    "    .selectExpr(\n",
    "        \"month as mnth\",\n",
    "        \"crime_type\",\n",
    "        \"log\",\n",
    "        \"lat\",\n",
    "        \"crime_geo\"\n",
    "    )\n",
    "    \n",
    "    return crime_df\n"
   ]
  },
  {
   "cell_type": "code",
   "execution_count": 5,
   "id": "65a36031-1816-4664-921d-a9c531ef4b89",
   "metadata": {},
   "outputs": [],
   "source": [
    "import pandas as pd\n",
    "d = pd.date_range(start='1/1/2021', end='12/1/2021', freq='MS')\n",
    "mnth_range = [x.strftime(\"%Y\")+'-'+x.strftime(\"%m\") for x in d]\n"
   ]
  },
  {
   "cell_type": "code",
   "execution_count": 6,
   "id": "17e7e9c7-66ce-4271-badf-12eddfbcb2ed",
   "metadata": {},
   "outputs": [],
   "source": [
    "df_arry = [get_crime_month(mnth) for mnth in mnth_range]"
   ]
  },
  {
   "cell_type": "code",
   "execution_count": 7,
   "id": "d3900c39-92d5-4f36-9126-0b217f904354",
   "metadata": {},
   "outputs": [],
   "source": [
    "import functools \n",
    "merged_df = functools.reduce(lambda df1, df2: df1.union(df2), df_arry)"
   ]
  },
  {
   "cell_type": "code",
   "execution_count": 16,
   "id": "ec5dad4a-341f-48ca-970d-a0b519ff3008",
   "metadata": {},
   "outputs": [
    {
     "name": "stderr",
     "output_type": "stream",
     "text": [
      "22/02/23 00:41:24 WARN CacheManager: Asked to cache already cached data.\n",
      "                                                                                \r"
     ]
    },
    {
     "data": {
      "text/plain": [
       "[Row(month='2019-01', crime_type='Violence and sexual offences', log=-0.709911, lat=50.784615)]"
      ]
     },
     "execution_count": 16,
     "metadata": {},
     "output_type": "execute_result"
    }
   ],
   "source": [
    "# merged_df.cache()\n",
    "# merged_df.take(1)"
   ]
  },
  {
   "cell_type": "markdown",
   "id": "6536e3aa-de65-492f-b245-66deb5ea39ad",
   "metadata": {},
   "source": [
    "Attempting distance join"
   ]
  },
  {
   "cell_type": "code",
   "execution_count": 8,
   "id": "8bca591c-6c82-4aab-a4f0-f739db7ccc03",
   "metadata": {},
   "outputs": [
    {
     "data": {
      "text/plain": [
       "48"
      ]
     },
     "execution_count": 8,
     "metadata": {},
     "output_type": "execute_result"
    }
   ],
   "source": [
    "# merged_df.printSchema()\n",
    "merged_df.rdd.getNumPartitions()"
   ]
  },
  {
   "cell_type": "code",
   "execution_count": 1,
   "id": "a5883e6f-ca9c-4cc3-85a3-bc50e88022dc",
   "metadata": {},
   "outputs": [
    {
     "ename": "NameError",
     "evalue": "name 'spark' is not defined",
     "output_type": "error",
     "traceback": [
      "\u001b[0;31m---------------------------------------------------------------------------\u001b[0m",
      "\u001b[0;31mNameError\u001b[0m                                 Traceback (most recent call last)",
      "Input \u001b[0;32mIn [1]\u001b[0m, in \u001b[0;36m<module>\u001b[0;34m\u001b[0m\n\u001b[0;32m----> 1\u001b[0m \u001b[43mspark\u001b[49m\u001b[38;5;241m.\u001b[39mstop()\n",
      "\u001b[0;31mNameError\u001b[0m: name 'spark' is not defined"
     ]
    }
   ],
   "source": [
    "spark.stop()"
   ]
  },
  {
   "cell_type": "code",
   "execution_count": 9,
   "id": "ca34fcd4-c428-4878-91a0-fd1bd79460e0",
   "metadata": {
    "tags": []
   },
   "outputs": [
    {
     "name": "stderr",
     "output_type": "stream",
     "text": [
      "                                                                                \r"
     ]
    }
   ],
   "source": [
    "merged_df.coalesce(1)\\\n",
    ".write.format('parquet').mode(\"overwrite\")\\\n",
    ".partitionBy(\"mnth\")\\\n",
    ".save(\"/mnt/c/users/lohith/Downloads/AllCrimeParquet_bucketed_2021_onefile\")"
   ]
  },
  {
   "cell_type": "markdown",
   "id": "938fdd44-69b8-4b67-88b4-553a99e7e166",
   "metadata": {},
   "source": [
    "**Query complete crime data using the postcode**"
   ]
  },
  {
   "cell_type": "code",
   "execution_count": 6,
   "id": "67699d77-cf04-4412-99f2-7e31f9886cde",
   "metadata": {},
   "outputs": [],
   "source": [
    "# Can I cache it?\n",
    "# crime_df = spark.read.load(\"/mnt/c/users/lohith/Downloads/AllCrimeParquet_bucketed_2021\")\n",
    "crime_df = spark.read.load(\"/mnt/c/users/lohith/Downloads/AllCrimeParquet_bucketed_2021_onefile\")\n",
    "# crime_df.cache()\n",
    "# crime_df.take(1)\n",
    "# crime_df.count()"
   ]
  },
  {
   "cell_type": "code",
   "execution_count": 15,
   "id": "5f7c6f2a-5171-4753-b6c3-d59b9c95a707",
   "metadata": {
    "collapsed": true,
    "jupyter": {
     "outputs_hidden": true
    },
    "tags": []
   },
   "outputs": [
    {
     "name": "stderr",
     "output_type": "stream",
     "text": [
      "[Stage 33:=======================>                               (80 + 4) / 188]\r"
     ]
    },
    {
     "ename": "KeyboardInterrupt",
     "evalue": "",
     "output_type": "error",
     "traceback": [
      "\u001b[0;31m---------------------------------------------------------------------------\u001b[0m",
      "\u001b[0;31mKeyboardInterrupt\u001b[0m                         Traceback (most recent call last)",
      "Input \u001b[0;32mIn [15]\u001b[0m, in \u001b[0;36m<module>\u001b[0;34m\u001b[0m\n\u001b[0;32m----> 1\u001b[0m \u001b[43mcrime_df\u001b[49m\u001b[38;5;241;43m.\u001b[39;49m\u001b[43mgroupBy\u001b[49m\u001b[43m(\u001b[49m\u001b[38;5;124;43m'\u001b[39;49m\u001b[38;5;124;43mmnth\u001b[39;49m\u001b[38;5;124;43m'\u001b[39;49m\u001b[43m)\u001b[49m\u001b[38;5;241;43m.\u001b[39;49m\u001b[43mcount\u001b[49m\u001b[43m(\u001b[49m\u001b[43m)\u001b[49m\u001b[38;5;241;43m.\u001b[39;49m\u001b[43mshow\u001b[49m\u001b[43m(\u001b[49m\u001b[43m)\u001b[49m\n",
      "File \u001b[0;32m~/envs/dbc1/lib/python3.8/site-packages/pyspark/sql/dataframe.py:484\u001b[0m, in \u001b[0;36mDataFrame.show\u001b[0;34m(self, n, truncate, vertical)\u001b[0m\n\u001b[1;32m    441\u001b[0m \u001b[38;5;124;03m\"\"\"Prints the first ``n`` rows to the console.\u001b[39;00m\n\u001b[1;32m    442\u001b[0m \n\u001b[1;32m    443\u001b[0m \u001b[38;5;124;03m.. versionadded:: 1.3.0\u001b[39;00m\n\u001b[0;32m   (...)\u001b[0m\n\u001b[1;32m    481\u001b[0m \u001b[38;5;124;03m name | Bob\u001b[39;00m\n\u001b[1;32m    482\u001b[0m \u001b[38;5;124;03m\"\"\"\u001b[39;00m\n\u001b[1;32m    483\u001b[0m \u001b[38;5;28;01mif\u001b[39;00m \u001b[38;5;28misinstance\u001b[39m(truncate, \u001b[38;5;28mbool\u001b[39m) \u001b[38;5;129;01mand\u001b[39;00m truncate:\n\u001b[0;32m--> 484\u001b[0m     \u001b[38;5;28mprint\u001b[39m(\u001b[38;5;28;43mself\u001b[39;49m\u001b[38;5;241;43m.\u001b[39;49m\u001b[43m_jdf\u001b[49m\u001b[38;5;241;43m.\u001b[39;49m\u001b[43mshowString\u001b[49m\u001b[43m(\u001b[49m\u001b[43mn\u001b[49m\u001b[43m,\u001b[49m\u001b[43m \u001b[49m\u001b[38;5;241;43m20\u001b[39;49m\u001b[43m,\u001b[49m\u001b[43m \u001b[49m\u001b[43mvertical\u001b[49m\u001b[43m)\u001b[49m)\n\u001b[1;32m    485\u001b[0m \u001b[38;5;28;01melse\u001b[39;00m:\n\u001b[1;32m    486\u001b[0m     \u001b[38;5;28mprint\u001b[39m(\u001b[38;5;28mself\u001b[39m\u001b[38;5;241m.\u001b[39m_jdf\u001b[38;5;241m.\u001b[39mshowString(n, \u001b[38;5;28mint\u001b[39m(truncate), vertical))\n",
      "File \u001b[0;32m~/envs/dbc1/lib/python3.8/site-packages/py4j/java_gateway.py:1303\u001b[0m, in \u001b[0;36mJavaMember.__call__\u001b[0;34m(self, *args)\u001b[0m\n\u001b[1;32m   1296\u001b[0m args_command, temp_args \u001b[38;5;241m=\u001b[39m \u001b[38;5;28mself\u001b[39m\u001b[38;5;241m.\u001b[39m_build_args(\u001b[38;5;241m*\u001b[39margs)\n\u001b[1;32m   1298\u001b[0m command \u001b[38;5;241m=\u001b[39m proto\u001b[38;5;241m.\u001b[39mCALL_COMMAND_NAME \u001b[38;5;241m+\u001b[39m\\\n\u001b[1;32m   1299\u001b[0m     \u001b[38;5;28mself\u001b[39m\u001b[38;5;241m.\u001b[39mcommand_header \u001b[38;5;241m+\u001b[39m\\\n\u001b[1;32m   1300\u001b[0m     args_command \u001b[38;5;241m+\u001b[39m\\\n\u001b[1;32m   1301\u001b[0m     proto\u001b[38;5;241m.\u001b[39mEND_COMMAND_PART\n\u001b[0;32m-> 1303\u001b[0m answer \u001b[38;5;241m=\u001b[39m \u001b[38;5;28;43mself\u001b[39;49m\u001b[38;5;241;43m.\u001b[39;49m\u001b[43mgateway_client\u001b[49m\u001b[38;5;241;43m.\u001b[39;49m\u001b[43msend_command\u001b[49m\u001b[43m(\u001b[49m\u001b[43mcommand\u001b[49m\u001b[43m)\u001b[49m\n\u001b[1;32m   1304\u001b[0m return_value \u001b[38;5;241m=\u001b[39m get_return_value(\n\u001b[1;32m   1305\u001b[0m     answer, \u001b[38;5;28mself\u001b[39m\u001b[38;5;241m.\u001b[39mgateway_client, \u001b[38;5;28mself\u001b[39m\u001b[38;5;241m.\u001b[39mtarget_id, \u001b[38;5;28mself\u001b[39m\u001b[38;5;241m.\u001b[39mname)\n\u001b[1;32m   1307\u001b[0m \u001b[38;5;28;01mfor\u001b[39;00m temp_arg \u001b[38;5;129;01min\u001b[39;00m temp_args:\n",
      "File \u001b[0;32m~/envs/dbc1/lib/python3.8/site-packages/py4j/java_gateway.py:1033\u001b[0m, in \u001b[0;36mGatewayClient.send_command\u001b[0;34m(self, command, retry, binary)\u001b[0m\n\u001b[1;32m   1031\u001b[0m connection \u001b[38;5;241m=\u001b[39m \u001b[38;5;28mself\u001b[39m\u001b[38;5;241m.\u001b[39m_get_connection()\n\u001b[1;32m   1032\u001b[0m \u001b[38;5;28;01mtry\u001b[39;00m:\n\u001b[0;32m-> 1033\u001b[0m     response \u001b[38;5;241m=\u001b[39m \u001b[43mconnection\u001b[49m\u001b[38;5;241;43m.\u001b[39;49m\u001b[43msend_command\u001b[49m\u001b[43m(\u001b[49m\u001b[43mcommand\u001b[49m\u001b[43m)\u001b[49m\n\u001b[1;32m   1034\u001b[0m     \u001b[38;5;28;01mif\u001b[39;00m binary:\n\u001b[1;32m   1035\u001b[0m         \u001b[38;5;28;01mreturn\u001b[39;00m response, \u001b[38;5;28mself\u001b[39m\u001b[38;5;241m.\u001b[39m_create_connection_guard(connection)\n",
      "File \u001b[0;32m~/envs/dbc1/lib/python3.8/site-packages/py4j/java_gateway.py:1200\u001b[0m, in \u001b[0;36mGatewayConnection.send_command\u001b[0;34m(self, command)\u001b[0m\n\u001b[1;32m   1196\u001b[0m     \u001b[38;5;28;01mraise\u001b[39;00m Py4JNetworkError(\n\u001b[1;32m   1197\u001b[0m         \u001b[38;5;124m\"\u001b[39m\u001b[38;5;124mError while sending\u001b[39m\u001b[38;5;124m\"\u001b[39m, e, proto\u001b[38;5;241m.\u001b[39mERROR_ON_SEND)\n\u001b[1;32m   1199\u001b[0m \u001b[38;5;28;01mtry\u001b[39;00m:\n\u001b[0;32m-> 1200\u001b[0m     answer \u001b[38;5;241m=\u001b[39m smart_decode(\u001b[38;5;28;43mself\u001b[39;49m\u001b[38;5;241;43m.\u001b[39;49m\u001b[43mstream\u001b[49m\u001b[38;5;241;43m.\u001b[39;49m\u001b[43mreadline\u001b[49m\u001b[43m(\u001b[49m\u001b[43m)\u001b[49m[:\u001b[38;5;241m-\u001b[39m\u001b[38;5;241m1\u001b[39m])\n\u001b[1;32m   1201\u001b[0m     logger\u001b[38;5;241m.\u001b[39mdebug(\u001b[38;5;124m\"\u001b[39m\u001b[38;5;124mAnswer received: \u001b[39m\u001b[38;5;132;01m{0}\u001b[39;00m\u001b[38;5;124m\"\u001b[39m\u001b[38;5;241m.\u001b[39mformat(answer))\n\u001b[1;32m   1202\u001b[0m     \u001b[38;5;28;01mif\u001b[39;00m answer\u001b[38;5;241m.\u001b[39mstartswith(proto\u001b[38;5;241m.\u001b[39mRETURN_MESSAGE):\n",
      "File \u001b[0;32m~/miniconda3/lib/python3.8/socket.py:669\u001b[0m, in \u001b[0;36mSocketIO.readinto\u001b[0;34m(self, b)\u001b[0m\n\u001b[1;32m    667\u001b[0m \u001b[38;5;28;01mwhile\u001b[39;00m \u001b[38;5;28;01mTrue\u001b[39;00m:\n\u001b[1;32m    668\u001b[0m     \u001b[38;5;28;01mtry\u001b[39;00m:\n\u001b[0;32m--> 669\u001b[0m         \u001b[38;5;28;01mreturn\u001b[39;00m \u001b[38;5;28;43mself\u001b[39;49m\u001b[38;5;241;43m.\u001b[39;49m\u001b[43m_sock\u001b[49m\u001b[38;5;241;43m.\u001b[39;49m\u001b[43mrecv_into\u001b[49m\u001b[43m(\u001b[49m\u001b[43mb\u001b[49m\u001b[43m)\u001b[49m\n\u001b[1;32m    670\u001b[0m     \u001b[38;5;28;01mexcept\u001b[39;00m timeout:\n\u001b[1;32m    671\u001b[0m         \u001b[38;5;28mself\u001b[39m\u001b[38;5;241m.\u001b[39m_timeout_occurred \u001b[38;5;241m=\u001b[39m \u001b[38;5;28;01mTrue\u001b[39;00m\n",
      "\u001b[0;31mKeyboardInterrupt\u001b[0m: "
     ]
    },
    {
     "name": "stderr",
     "output_type": "stream",
     "text": [
      "22/02/23 20:18:28 WARN TaskSetManager: Lost task 89.0 in stage 33.0 (TID 727) (172.21.86.57 executor driver): TaskKilled (Stage cancelled)\n",
      "22/02/23 20:18:28 WARN TaskSetManager: Lost task 90.0 in stage 33.0 (TID 728) (172.21.86.57 executor driver): TaskKilled (Stage cancelled)\n",
      "22/02/23 20:18:28 WARN TaskSetManager: Lost task 88.0 in stage 33.0 (TID 726) (172.21.86.57 executor driver): TaskKilled (Stage cancelled)\n",
      "22/02/23 20:18:28 WARN TaskSetManager: Lost task 91.0 in stage 33.0 (TID 729) (172.21.86.57 executor driver): TaskKilled (Stage cancelled)\n"
     ]
    }
   ],
   "source": [
    "crime_df.groupBy('mnth').count().show()"
   ]
  },
  {
   "cell_type": "markdown",
   "id": "24540246-86be-49fb-a43a-4073e3bb6d52",
   "metadata": {},
   "source": [
    "**Query Single**"
   ]
  },
  {
   "cell_type": "code",
   "execution_count": 42,
   "id": "1de15005-29dd-4417-aa90-73f91b528ceb",
   "metadata": {},
   "outputs": [
    {
     "name": "stderr",
     "output_type": "stream",
     "text": [
      "                                                                                \r"
     ]
    },
    {
     "data": {
      "text/plain": [
       "523636.4166666667"
      ]
     },
     "execution_count": 42,
     "metadata": {},
     "output_type": "execute_result"
    }
   ],
   "source": [
    "crime_df.filter(\"month like '2020%'\").count()\n",
    "crime_df.cache()\n",
    "crime_df.take(1)\n",
    "# 6283637/12"
   ]
  },
  {
   "cell_type": "code",
   "execution_count": 50,
   "id": "d45524ce-64a7-44c1-aead-32034c1c71c3",
   "metadata": {},
   "outputs": [
    {
     "data": {
      "text/plain": [
       "DataFrame[month: string, crime_type: string, log: double, lat: double, crime_geo: udt]"
      ]
     },
     "execution_count": 50,
     "metadata": {},
     "output_type": "execute_result"
    }
   ],
   "source": [
    "crime_df.unpersist()"
   ]
  },
  {
   "cell_type": "code",
   "execution_count": 14,
   "id": "5b1032ea-56a4-4eaf-aaf1-b7a4875c8171",
   "metadata": {},
   "outputs": [],
   "source": [
    "\n"
   ]
  },
  {
   "cell_type": "markdown",
   "id": "664ff881-7d96-4811-b074-dfdf82bfd3dc",
   "metadata": {},
   "source": [
    "**Read in PostCode**"
   ]
  },
  {
   "cell_type": "code",
   "execution_count": 37,
   "id": "615cc822-07a9-49e2-b043-94f704d470d5",
   "metadata": {
    "tags": []
   },
   "outputs": [],
   "source": [
    "from utils.spark_utils import cleanup_col_name, with_std_column_names\n",
    "\n",
    "postcode_df = spark.read.format('csv')\\\n",
    ".option(\"header\", \"true\")\\\n",
    ".load(\"/mnt/c/users/lohith/Downloads/National_Statistics_Postcode_Lookup_UK_Coordinates.csv\")\n",
    "\n",
    "postcode_df = postcode_df\\\n",
    ".filter(\"latitude IS NOT NULL OR longitude IS NOT NULL\")\\\n",
    ".transform(with_std_column_names())\\\n",
    ".withColumn(\"postcode_geo\",f.expr(\n",
    "    \"\"\" ST_Transform(ST_Point(CAST(latitude AS DOUBLE), CAST(longitude AS DOUBLE)), 'epsg:4326', 'epsg:3857')\"\"\")\n",
    "           )\\\n",
    ".selectExpr(\n",
    "    \"postcode_1 as postcode\",\n",
    "    \"postcode_geo\",\n",
    "    \"local_authority_name\"\n",
    ")"
   ]
  },
  {
   "cell_type": "code",
   "execution_count": null,
   "id": "9a68318d-8f73-4312-8184-f3ab4a15a037",
   "metadata": {},
   "outputs": [],
   "source": []
  },
  {
   "cell_type": "code",
   "execution_count": 38,
   "id": "10968ff1-6633-4859-98cb-78eec0e34b7d",
   "metadata": {},
   "outputs": [
    {
     "name": "stdout",
     "output_type": "stream",
     "text": [
      "root\n",
      " |-- postcode: string (nullable = true)\n",
      " |-- postcode_geo: geometry (nullable = false)\n",
      " |-- local_authority_name: string (nullable = true)\n",
      "\n"
     ]
    }
   ],
   "source": [
    "postcode_df.printSchema()"
   ]
  },
  {
   "cell_type": "code",
   "execution_count": 14,
   "id": "7e6e7a18-3f27-431c-afd0-ef15c0dfc186",
   "metadata": {},
   "outputs": [],
   "source": [
    "# spark.read.load(\"/mnt/c/users/lohith/Downloads/AllCrimeParquet_bucketed_2021_onefile\").createOrReplaceTempView(\"crime\")\n",
    "# spark.read.load(\"/mnt/c/users/lohith/Downloads/AllCrimeParquet_bucketed_2021_4FILES\").createOrReplaceTempView(\"crime\")"
   ]
  },
  {
   "cell_type": "code",
   "execution_count": 6,
   "id": "964758b5-dfc2-45e7-a5d6-15d0227b603a",
   "metadata": {},
   "outputs": [],
   "source": [
    "cache_df = spark.read.load(\"/mnt/c/users/lohith/Downloads/AllCrimeParquet_bucketed_2021_4FILES\")\\\n",
    ".filter(\"mnth ='2021-01'\")\n",
    "# cache_df.cache()\n",
    "# cache_df.take(1)\n",
    "cache_df.createOrReplaceTempView(\"crime\")"
   ]
  },
  {
   "cell_type": "code",
   "execution_count": 7,
   "id": "fe76d337-5025-4f63-bc5a-9ecfacba9b1b",
   "metadata": {},
   "outputs": [
    {
     "name": "stderr",
     "output_type": "stream",
     "text": [
      "                                                                                \r"
     ]
    },
    {
     "data": {
      "text/plain": [
       "459906"
      ]
     },
     "execution_count": 7,
     "metadata": {},
     "output_type": "execute_result"
    }
   ],
   "source": [
    "cache_df.count()\n",
    "# 760,541\n",
    "# 459,906"
   ]
  },
  {
   "cell_type": "code",
   "execution_count": 16,
   "id": "1ad21459-ba43-4faa-84ef-98da5036371f",
   "metadata": {},
   "outputs": [],
   "source": [
    "def get_crime(lkp_lat, lkp_log):\n",
    "    df = spark.sql(f\"\"\"\n",
    "    SELECT \n",
    "    crime_type,\n",
    "    CAST(CONCAT(mnth,'-01') AS DATE) AS mnth,\n",
    "    lat,\n",
    "    log as lon,\n",
    "    CONCAT(lat,',',log) AS point,\n",
    "    ST_Distance(\n",
    "        crime_geo,\n",
    "        ST_Transform(ST_Point({lkp_lat},{lkp_log}),'epsg:4326', 'epsg:3857')\n",
    "        )/1609 AS distance_in_km\n",
    "    FROM \n",
    "    crime\n",
    "    WHERE ST_Distance(\n",
    "        crime_geo,\n",
    "        ST_Transform(ST_Point({lkp_lat},{lkp_log}),'epsg:4326', 'epsg:3857')\n",
    "        )/1609 < .5   \n",
    "    \"\"\")\n",
    "    df = df.withColumn(\"tooltip\",f.expr(\n",
    "        \"\"\"CONCAT(crime_type, '-', ROUND(distance_in_km,2), ' km away') \"\"\")\n",
    "                       )\n",
    "    return df"
   ]
  },
  {
   "cell_type": "code",
   "execution_count": 168,
   "id": "a3fbf729-5149-44d3-9a58-7853e1e7d6d5",
   "metadata": {
    "tags": []
   },
   "outputs": [],
   "source": [
    "# crime_df.createOrReplaceTempView(\"crime\")\n",
    "\n",
    "# lkp_lat,lkp_log = 51.354216306966165, 0.09601577404779706\n",
    "# lkp_lat,lkp_log = 51.36048099880035, -0.08489413540566694 # 1170\n",
    "    # lkp_lat,lkp_log = 51.36286136475329, -0.09364528500885617 #2000\n",
    "# 51.39988584782701, 0.017850857899133217 # 336 permonth\n",
    "lkp_lat,lkp_log=\\\n",
    "51.39477532505466, 0.10633558916633941\n",
    "\n",
    "# ST_Distance(\n",
    "#     ST_Transform(ST_Point(lat, log), 'epsg:4326', 'epsg:3857'),\n",
    "#     ST_Transform(ST_Point({lkp_lat},{lkp_log}),'epsg:4326', 'epsg:3857')\n",
    "#     )/1609 AS distance_in_km\n",
    "\n",
    "df = spark.sql(f\"\"\"\n",
    "SELECT \n",
    "crime_type,\n",
    "CONCAT(mnth,'-01') AS mnth,\n",
    "lat,\n",
    "log as lon,\n",
    "CONCAT(lat,',',log) AS point,\n",
    "ST_Distance(\n",
    "    crime_geo,\n",
    "    ST_Transform(ST_Point({lkp_lat},{lkp_log}),'epsg:4326', 'epsg:3857')\n",
    "    )/1609 AS distance_in_km,\n",
    "ST_Distance(\n",
    "    crime_geo,\n",
    "    ST_Transform(ST_Point({lkp_lat},{lkp_log}),'epsg:4326', 'epsg:3857')\n",
    "    )/1609*0.621371 AS distance_in_miles\n",
    "FROM \n",
    "crimec\n",
    "WHERE ST_Distance(\n",
    "    crime_geo,\n",
    "    ST_Transform(ST_Point({lkp_lat},{lkp_log}),'epsg:4326', 'epsg:3857')\n",
    "    )/1609 < .5\n",
    "    AND mnth IN ('2021-01', '2021-02', '2021-03')      \n",
    "\"\"\")\n",
    "\n"
   ]
  },
  {
   "cell_type": "code",
   "execution_count": 17,
   "id": "1b889f79-8b83-4f05-9f79-56557fdac53e",
   "metadata": {},
   "outputs": [
    {
     "name": "stderr",
     "output_type": "stream",
     "text": [
      "[Stage 18:======================================>                   (2 + 1) / 3]\r"
     ]
    },
    {
     "name": "stdout",
     "output_type": "stream",
     "text": [
      "+----------+\n",
      "|      mnth|\n",
      "+----------+\n",
      "|2021-01-01|\n",
      "+----------+\n",
      "\n"
     ]
    },
    {
     "name": "stderr",
     "output_type": "stream",
     "text": [
      "                                                                                \r"
     ]
    }
   ],
   "source": [
    "\n",
    "get_crime(51.39477532505466, 0.10633558916633941).select(\"mnth\").distinct().show()"
   ]
  },
  {
   "cell_type": "code",
   "execution_count": null,
   "id": "9e4bbbef-6a7e-4472-afe2-f6dcf18a06fb",
   "metadata": {},
   "outputs": [],
   "source": [
    "def get_crime_summary(pdf):\n",
    "    fig = px.histogram(\n",
    "    pdf\n",
    "    y='crime_type', \n",
    "    color=\"crime_type\",\n",
    "    )\n",
    "    fig.update_layout(barmode='group', yaxis={'categoryorder':'total ascending'}, uniformtext_minsize=8)\n",
    "    fig.update_traces(textfont_size=12, textangle=0, textposition=\"outside\", cliponaxis=False)\n",
    "    return fig"
   ]
  },
  {
   "cell_type": "code",
   "execution_count": 35,
   "id": "e6cb9748-b3db-4535-8d61-6a768f1e1997",
   "metadata": {},
   "outputs": [
    {
     "name": "stderr",
     "output_type": "stream",
     "text": [
      "                                                                                \r"
     ]
    },
    {
     "data": {
      "application/vnd.plotly.v1+json": {
       "config": {
        "plotlyServerURL": "https://plot.ly"
       },
       "data": [
        {
         "alignmentgroup": "True",
         "bingroup": "x",
         "cliponaxis": false,
         "hovertemplate": "crime_type=%{x}<br>count=%{y}<extra></extra>",
         "legendgroup": "Criminal damage and arson",
         "marker": {
          "color": "#636efa",
          "pattern": {
           "shape": ""
          }
         },
         "name": "Criminal damage and arson",
         "offsetgroup": "Criminal damage and arson",
         "orientation": "v",
         "showlegend": true,
         "textangle": 0,
         "textfont": {
          "size": 12
         },
         "textposition": "outside",
         "texttemplate": "%{value:1s}",
         "type": "histogram",
         "x": [
          "Criminal damage and arson",
          "Criminal damage and arson",
          "Criminal damage and arson",
          "Criminal damage and arson",
          "Criminal damage and arson"
         ],
         "xaxis": "x",
         "yaxis": "y"
        },
        {
         "alignmentgroup": "True",
         "bingroup": "x",
         "cliponaxis": false,
         "hovertemplate": "crime_type=%{x}<br>count=%{y}<extra></extra>",
         "legendgroup": "Vehicle crime",
         "marker": {
          "color": "#EF553B",
          "pattern": {
           "shape": ""
          }
         },
         "name": "Vehicle crime",
         "offsetgroup": "Vehicle crime",
         "orientation": "v",
         "showlegend": true,
         "textangle": 0,
         "textfont": {
          "size": 12
         },
         "textposition": "outside",
         "texttemplate": "%{value:1s}",
         "type": "histogram",
         "x": [
          "Vehicle crime",
          "Vehicle crime",
          "Vehicle crime",
          "Vehicle crime",
          "Vehicle crime",
          "Vehicle crime",
          "Vehicle crime"
         ],
         "xaxis": "x",
         "yaxis": "y"
        },
        {
         "alignmentgroup": "True",
         "bingroup": "x",
         "cliponaxis": false,
         "hovertemplate": "crime_type=%{x}<br>count=%{y}<extra></extra>",
         "legendgroup": "Anti-social behaviour",
         "marker": {
          "color": "#00cc96",
          "pattern": {
           "shape": ""
          }
         },
         "name": "Anti-social behaviour",
         "offsetgroup": "Anti-social behaviour",
         "orientation": "v",
         "showlegend": true,
         "textangle": 0,
         "textfont": {
          "size": 12
         },
         "textposition": "outside",
         "texttemplate": "%{value:1s}",
         "type": "histogram",
         "x": [
          "Anti-social behaviour",
          "Anti-social behaviour",
          "Anti-social behaviour",
          "Anti-social behaviour",
          "Anti-social behaviour",
          "Anti-social behaviour",
          "Anti-social behaviour",
          "Anti-social behaviour",
          "Anti-social behaviour",
          "Anti-social behaviour",
          "Anti-social behaviour",
          "Anti-social behaviour"
         ],
         "xaxis": "x",
         "yaxis": "y"
        },
        {
         "alignmentgroup": "True",
         "bingroup": "x",
         "cliponaxis": false,
         "hovertemplate": "crime_type=%{x}<br>count=%{y}<extra></extra>",
         "legendgroup": "Other theft",
         "marker": {
          "color": "#ab63fa",
          "pattern": {
           "shape": ""
          }
         },
         "name": "Other theft",
         "offsetgroup": "Other theft",
         "orientation": "v",
         "showlegend": true,
         "textangle": 0,
         "textfont": {
          "size": 12
         },
         "textposition": "outside",
         "texttemplate": "%{value:1s}",
         "type": "histogram",
         "x": [
          "Other theft",
          "Other theft"
         ],
         "xaxis": "x",
         "yaxis": "y"
        },
        {
         "alignmentgroup": "True",
         "bingroup": "x",
         "cliponaxis": false,
         "hovertemplate": "crime_type=%{x}<br>count=%{y}<extra></extra>",
         "legendgroup": "Violence and sexual offences",
         "marker": {
          "color": "#FFA15A",
          "pattern": {
           "shape": ""
          }
         },
         "name": "Violence and sexual offences",
         "offsetgroup": "Violence and sexual offences",
         "orientation": "v",
         "showlegend": true,
         "textangle": 0,
         "textfont": {
          "size": 12
         },
         "textposition": "outside",
         "texttemplate": "%{value:1s}",
         "type": "histogram",
         "x": [
          "Violence and sexual offences",
          "Violence and sexual offences",
          "Violence and sexual offences",
          "Violence and sexual offences",
          "Violence and sexual offences",
          "Violence and sexual offences",
          "Violence and sexual offences",
          "Violence and sexual offences",
          "Violence and sexual offences"
         ],
         "xaxis": "x",
         "yaxis": "y"
        },
        {
         "alignmentgroup": "True",
         "bingroup": "x",
         "cliponaxis": false,
         "hovertemplate": "crime_type=%{x}<br>count=%{y}<extra></extra>",
         "legendgroup": "Other crime",
         "marker": {
          "color": "#19d3f3",
          "pattern": {
           "shape": ""
          }
         },
         "name": "Other crime",
         "offsetgroup": "Other crime",
         "orientation": "v",
         "showlegend": true,
         "textangle": 0,
         "textfont": {
          "size": 12
         },
         "textposition": "outside",
         "texttemplate": "%{value:1s}",
         "type": "histogram",
         "x": [
          "Other crime"
         ],
         "xaxis": "x",
         "yaxis": "y"
        },
        {
         "alignmentgroup": "True",
         "bingroup": "x",
         "cliponaxis": false,
         "hovertemplate": "crime_type=%{x}<br>count=%{y}<extra></extra>",
         "legendgroup": "Public order",
         "marker": {
          "color": "#FF6692",
          "pattern": {
           "shape": ""
          }
         },
         "name": "Public order",
         "offsetgroup": "Public order",
         "orientation": "v",
         "showlegend": true,
         "textangle": 0,
         "textfont": {
          "size": 12
         },
         "textposition": "outside",
         "texttemplate": "%{value:1s}",
         "type": "histogram",
         "x": [
          "Public order",
          "Public order"
         ],
         "xaxis": "x",
         "yaxis": "y"
        },
        {
         "alignmentgroup": "True",
         "bingroup": "x",
         "cliponaxis": false,
         "hovertemplate": "crime_type=%{x}<br>count=%{y}<extra></extra>",
         "legendgroup": "Shoplifting",
         "marker": {
          "color": "#B6E880",
          "pattern": {
           "shape": ""
          }
         },
         "name": "Shoplifting",
         "offsetgroup": "Shoplifting",
         "orientation": "v",
         "showlegend": true,
         "textangle": 0,
         "textfont": {
          "size": 12
         },
         "textposition": "outside",
         "texttemplate": "%{value:1s}",
         "type": "histogram",
         "x": [
          "Shoplifting",
          "Shoplifting",
          "Shoplifting"
         ],
         "xaxis": "x",
         "yaxis": "y"
        },
        {
         "alignmentgroup": "True",
         "bingroup": "x",
         "cliponaxis": false,
         "hovertemplate": "crime_type=%{x}<br>count=%{y}<extra></extra>",
         "legendgroup": "Burglary",
         "marker": {
          "color": "#FF97FF",
          "pattern": {
           "shape": ""
          }
         },
         "name": "Burglary",
         "offsetgroup": "Burglary",
         "orientation": "v",
         "showlegend": true,
         "textangle": 0,
         "textfont": {
          "size": 12
         },
         "textposition": "outside",
         "texttemplate": "%{value:1s}",
         "type": "histogram",
         "x": [
          "Burglary",
          "Burglary"
         ],
         "xaxis": "x",
         "yaxis": "y"
        },
        {
         "alignmentgroup": "True",
         "bingroup": "x",
         "cliponaxis": false,
         "hovertemplate": "crime_type=%{x}<br>count=%{y}<extra></extra>",
         "legendgroup": "Drugs",
         "marker": {
          "color": "#FECB52",
          "pattern": {
           "shape": ""
          }
         },
         "name": "Drugs",
         "offsetgroup": "Drugs",
         "orientation": "v",
         "showlegend": true,
         "textangle": 0,
         "textfont": {
          "size": 12
         },
         "textposition": "outside",
         "texttemplate": "%{value:1s}",
         "type": "histogram",
         "x": [
          "Drugs",
          "Drugs"
         ],
         "xaxis": "x",
         "yaxis": "y"
        }
       ],
       "layout": {
        "autosize": true,
        "barmode": "relative",
        "legend": {
         "title": {
          "text": "crime_type"
         },
         "tracegroupgap": 0
        },
        "margin": {
         "t": 60
        },
        "template": {
         "data": {
          "bar": [
           {
            "error_x": {
             "color": "#2a3f5f"
            },
            "error_y": {
             "color": "#2a3f5f"
            },
            "marker": {
             "line": {
              "color": "#E5ECF6",
              "width": 0.5
             },
             "pattern": {
              "fillmode": "overlay",
              "size": 10,
              "solidity": 0.2
             }
            },
            "type": "bar"
           }
          ],
          "barpolar": [
           {
            "marker": {
             "line": {
              "color": "#E5ECF6",
              "width": 0.5
             },
             "pattern": {
              "fillmode": "overlay",
              "size": 10,
              "solidity": 0.2
             }
            },
            "type": "barpolar"
           }
          ],
          "carpet": [
           {
            "aaxis": {
             "endlinecolor": "#2a3f5f",
             "gridcolor": "white",
             "linecolor": "white",
             "minorgridcolor": "white",
             "startlinecolor": "#2a3f5f"
            },
            "baxis": {
             "endlinecolor": "#2a3f5f",
             "gridcolor": "white",
             "linecolor": "white",
             "minorgridcolor": "white",
             "startlinecolor": "#2a3f5f"
            },
            "type": "carpet"
           }
          ],
          "choropleth": [
           {
            "colorbar": {
             "outlinewidth": 0,
             "ticks": ""
            },
            "type": "choropleth"
           }
          ],
          "contour": [
           {
            "colorbar": {
             "outlinewidth": 0,
             "ticks": ""
            },
            "colorscale": [
             [
              0,
              "#0d0887"
             ],
             [
              0.1111111111111111,
              "#46039f"
             ],
             [
              0.2222222222222222,
              "#7201a8"
             ],
             [
              0.3333333333333333,
              "#9c179e"
             ],
             [
              0.4444444444444444,
              "#bd3786"
             ],
             [
              0.5555555555555556,
              "#d8576b"
             ],
             [
              0.6666666666666666,
              "#ed7953"
             ],
             [
              0.7777777777777778,
              "#fb9f3a"
             ],
             [
              0.8888888888888888,
              "#fdca26"
             ],
             [
              1,
              "#f0f921"
             ]
            ],
            "type": "contour"
           }
          ],
          "contourcarpet": [
           {
            "colorbar": {
             "outlinewidth": 0,
             "ticks": ""
            },
            "type": "contourcarpet"
           }
          ],
          "heatmap": [
           {
            "colorbar": {
             "outlinewidth": 0,
             "ticks": ""
            },
            "colorscale": [
             [
              0,
              "#0d0887"
             ],
             [
              0.1111111111111111,
              "#46039f"
             ],
             [
              0.2222222222222222,
              "#7201a8"
             ],
             [
              0.3333333333333333,
              "#9c179e"
             ],
             [
              0.4444444444444444,
              "#bd3786"
             ],
             [
              0.5555555555555556,
              "#d8576b"
             ],
             [
              0.6666666666666666,
              "#ed7953"
             ],
             [
              0.7777777777777778,
              "#fb9f3a"
             ],
             [
              0.8888888888888888,
              "#fdca26"
             ],
             [
              1,
              "#f0f921"
             ]
            ],
            "type": "heatmap"
           }
          ],
          "heatmapgl": [
           {
            "colorbar": {
             "outlinewidth": 0,
             "ticks": ""
            },
            "colorscale": [
             [
              0,
              "#0d0887"
             ],
             [
              0.1111111111111111,
              "#46039f"
             ],
             [
              0.2222222222222222,
              "#7201a8"
             ],
             [
              0.3333333333333333,
              "#9c179e"
             ],
             [
              0.4444444444444444,
              "#bd3786"
             ],
             [
              0.5555555555555556,
              "#d8576b"
             ],
             [
              0.6666666666666666,
              "#ed7953"
             ],
             [
              0.7777777777777778,
              "#fb9f3a"
             ],
             [
              0.8888888888888888,
              "#fdca26"
             ],
             [
              1,
              "#f0f921"
             ]
            ],
            "type": "heatmapgl"
           }
          ],
          "histogram": [
           {
            "marker": {
             "pattern": {
              "fillmode": "overlay",
              "size": 10,
              "solidity": 0.2
             }
            },
            "type": "histogram"
           }
          ],
          "histogram2d": [
           {
            "colorbar": {
             "outlinewidth": 0,
             "ticks": ""
            },
            "colorscale": [
             [
              0,
              "#0d0887"
             ],
             [
              0.1111111111111111,
              "#46039f"
             ],
             [
              0.2222222222222222,
              "#7201a8"
             ],
             [
              0.3333333333333333,
              "#9c179e"
             ],
             [
              0.4444444444444444,
              "#bd3786"
             ],
             [
              0.5555555555555556,
              "#d8576b"
             ],
             [
              0.6666666666666666,
              "#ed7953"
             ],
             [
              0.7777777777777778,
              "#fb9f3a"
             ],
             [
              0.8888888888888888,
              "#fdca26"
             ],
             [
              1,
              "#f0f921"
             ]
            ],
            "type": "histogram2d"
           }
          ],
          "histogram2dcontour": [
           {
            "colorbar": {
             "outlinewidth": 0,
             "ticks": ""
            },
            "colorscale": [
             [
              0,
              "#0d0887"
             ],
             [
              0.1111111111111111,
              "#46039f"
             ],
             [
              0.2222222222222222,
              "#7201a8"
             ],
             [
              0.3333333333333333,
              "#9c179e"
             ],
             [
              0.4444444444444444,
              "#bd3786"
             ],
             [
              0.5555555555555556,
              "#d8576b"
             ],
             [
              0.6666666666666666,
              "#ed7953"
             ],
             [
              0.7777777777777778,
              "#fb9f3a"
             ],
             [
              0.8888888888888888,
              "#fdca26"
             ],
             [
              1,
              "#f0f921"
             ]
            ],
            "type": "histogram2dcontour"
           }
          ],
          "mesh3d": [
           {
            "colorbar": {
             "outlinewidth": 0,
             "ticks": ""
            },
            "type": "mesh3d"
           }
          ],
          "parcoords": [
           {
            "line": {
             "colorbar": {
              "outlinewidth": 0,
              "ticks": ""
             }
            },
            "type": "parcoords"
           }
          ],
          "pie": [
           {
            "automargin": true,
            "type": "pie"
           }
          ],
          "scatter": [
           {
            "marker": {
             "colorbar": {
              "outlinewidth": 0,
              "ticks": ""
             }
            },
            "type": "scatter"
           }
          ],
          "scatter3d": [
           {
            "line": {
             "colorbar": {
              "outlinewidth": 0,
              "ticks": ""
             }
            },
            "marker": {
             "colorbar": {
              "outlinewidth": 0,
              "ticks": ""
             }
            },
            "type": "scatter3d"
           }
          ],
          "scattercarpet": [
           {
            "marker": {
             "colorbar": {
              "outlinewidth": 0,
              "ticks": ""
             }
            },
            "type": "scattercarpet"
           }
          ],
          "scattergeo": [
           {
            "marker": {
             "colorbar": {
              "outlinewidth": 0,
              "ticks": ""
             }
            },
            "type": "scattergeo"
           }
          ],
          "scattergl": [
           {
            "marker": {
             "colorbar": {
              "outlinewidth": 0,
              "ticks": ""
             }
            },
            "type": "scattergl"
           }
          ],
          "scattermapbox": [
           {
            "marker": {
             "colorbar": {
              "outlinewidth": 0,
              "ticks": ""
             }
            },
            "type": "scattermapbox"
           }
          ],
          "scatterpolar": [
           {
            "marker": {
             "colorbar": {
              "outlinewidth": 0,
              "ticks": ""
             }
            },
            "type": "scatterpolar"
           }
          ],
          "scatterpolargl": [
           {
            "marker": {
             "colorbar": {
              "outlinewidth": 0,
              "ticks": ""
             }
            },
            "type": "scatterpolargl"
           }
          ],
          "scatterternary": [
           {
            "marker": {
             "colorbar": {
              "outlinewidth": 0,
              "ticks": ""
             }
            },
            "type": "scatterternary"
           }
          ],
          "surface": [
           {
            "colorbar": {
             "outlinewidth": 0,
             "ticks": ""
            },
            "colorscale": [
             [
              0,
              "#0d0887"
             ],
             [
              0.1111111111111111,
              "#46039f"
             ],
             [
              0.2222222222222222,
              "#7201a8"
             ],
             [
              0.3333333333333333,
              "#9c179e"
             ],
             [
              0.4444444444444444,
              "#bd3786"
             ],
             [
              0.5555555555555556,
              "#d8576b"
             ],
             [
              0.6666666666666666,
              "#ed7953"
             ],
             [
              0.7777777777777778,
              "#fb9f3a"
             ],
             [
              0.8888888888888888,
              "#fdca26"
             ],
             [
              1,
              "#f0f921"
             ]
            ],
            "type": "surface"
           }
          ],
          "table": [
           {
            "cells": {
             "fill": {
              "color": "#EBF0F8"
             },
             "line": {
              "color": "white"
             }
            },
            "header": {
             "fill": {
              "color": "#C8D4E3"
             },
             "line": {
              "color": "white"
             }
            },
            "type": "table"
           }
          ]
         },
         "layout": {
          "annotationdefaults": {
           "arrowcolor": "#2a3f5f",
           "arrowhead": 0,
           "arrowwidth": 1
          },
          "autotypenumbers": "strict",
          "coloraxis": {
           "colorbar": {
            "outlinewidth": 0,
            "ticks": ""
           }
          },
          "colorscale": {
           "diverging": [
            [
             0,
             "#8e0152"
            ],
            [
             0.1,
             "#c51b7d"
            ],
            [
             0.2,
             "#de77ae"
            ],
            [
             0.3,
             "#f1b6da"
            ],
            [
             0.4,
             "#fde0ef"
            ],
            [
             0.5,
             "#f7f7f7"
            ],
            [
             0.6,
             "#e6f5d0"
            ],
            [
             0.7,
             "#b8e186"
            ],
            [
             0.8,
             "#7fbc41"
            ],
            [
             0.9,
             "#4d9221"
            ],
            [
             1,
             "#276419"
            ]
           ],
           "sequential": [
            [
             0,
             "#0d0887"
            ],
            [
             0.1111111111111111,
             "#46039f"
            ],
            [
             0.2222222222222222,
             "#7201a8"
            ],
            [
             0.3333333333333333,
             "#9c179e"
            ],
            [
             0.4444444444444444,
             "#bd3786"
            ],
            [
             0.5555555555555556,
             "#d8576b"
            ],
            [
             0.6666666666666666,
             "#ed7953"
            ],
            [
             0.7777777777777778,
             "#fb9f3a"
            ],
            [
             0.8888888888888888,
             "#fdca26"
            ],
            [
             1,
             "#f0f921"
            ]
           ],
           "sequentialminus": [
            [
             0,
             "#0d0887"
            ],
            [
             0.1111111111111111,
             "#46039f"
            ],
            [
             0.2222222222222222,
             "#7201a8"
            ],
            [
             0.3333333333333333,
             "#9c179e"
            ],
            [
             0.4444444444444444,
             "#bd3786"
            ],
            [
             0.5555555555555556,
             "#d8576b"
            ],
            [
             0.6666666666666666,
             "#ed7953"
            ],
            [
             0.7777777777777778,
             "#fb9f3a"
            ],
            [
             0.8888888888888888,
             "#fdca26"
            ],
            [
             1,
             "#f0f921"
            ]
           ]
          },
          "colorway": [
           "#636efa",
           "#EF553B",
           "#00cc96",
           "#ab63fa",
           "#FFA15A",
           "#19d3f3",
           "#FF6692",
           "#B6E880",
           "#FF97FF",
           "#FECB52"
          ],
          "font": {
           "color": "#2a3f5f"
          },
          "geo": {
           "bgcolor": "white",
           "lakecolor": "white",
           "landcolor": "#E5ECF6",
           "showlakes": true,
           "showland": true,
           "subunitcolor": "white"
          },
          "hoverlabel": {
           "align": "left"
          },
          "hovermode": "closest",
          "mapbox": {
           "style": "light"
          },
          "paper_bgcolor": "white",
          "plot_bgcolor": "#E5ECF6",
          "polar": {
           "angularaxis": {
            "gridcolor": "white",
            "linecolor": "white",
            "ticks": ""
           },
           "bgcolor": "#E5ECF6",
           "radialaxis": {
            "gridcolor": "white",
            "linecolor": "white",
            "ticks": ""
           }
          },
          "scene": {
           "xaxis": {
            "backgroundcolor": "#E5ECF6",
            "gridcolor": "white",
            "gridwidth": 2,
            "linecolor": "white",
            "showbackground": true,
            "ticks": "",
            "zerolinecolor": "white"
           },
           "yaxis": {
            "backgroundcolor": "#E5ECF6",
            "gridcolor": "white",
            "gridwidth": 2,
            "linecolor": "white",
            "showbackground": true,
            "ticks": "",
            "zerolinecolor": "white"
           },
           "zaxis": {
            "backgroundcolor": "#E5ECF6",
            "gridcolor": "white",
            "gridwidth": 2,
            "linecolor": "white",
            "showbackground": true,
            "ticks": "",
            "zerolinecolor": "white"
           }
          },
          "shapedefaults": {
           "line": {
            "color": "#2a3f5f"
           }
          },
          "ternary": {
           "aaxis": {
            "gridcolor": "white",
            "linecolor": "white",
            "ticks": ""
           },
           "baxis": {
            "gridcolor": "white",
            "linecolor": "white",
            "ticks": ""
           },
           "bgcolor": "#E5ECF6",
           "caxis": {
            "gridcolor": "white",
            "linecolor": "white",
            "ticks": ""
           }
          },
          "title": {
           "x": 0.05
          },
          "xaxis": {
           "automargin": true,
           "gridcolor": "white",
           "linecolor": "white",
           "ticks": "",
           "title": {
            "standoff": 15
           },
           "zerolinecolor": "white",
           "zerolinewidth": 2
          },
          "yaxis": {
           "automargin": true,
           "gridcolor": "white",
           "linecolor": "white",
           "ticks": "",
           "title": {
            "standoff": 15
           },
           "zerolinecolor": "white",
           "zerolinewidth": 2
          }
         }
        },
        "uniformtext": {
         "minsize": 8
        },
        "xaxis": {
         "anchor": "y",
         "autorange": true,
         "categoryarray": [
          "Criminal damage and arson",
          "Vehicle crime",
          "Anti-social behaviour",
          "Other theft",
          "Violence and sexual offences",
          "Other crime",
          "Public order",
          "Shoplifting",
          "Burglary",
          "Drugs"
         ],
         "categoryorder": "total descending",
         "domain": [
          0,
          1
         ],
         "range": [
          -0.5,
          9.5
         ],
         "title": {
          "text": "crime_type"
         },
         "type": "category"
        },
        "yaxis": {
         "anchor": "x",
         "autorange": true,
         "domain": [
          0,
          1
         ],
         "range": [
          0,
          12.631578947368421
         ],
         "title": {
          "text": "count"
         }
        }
       }
      },
      "image/png": "[encoded data removed]",
      "text/html": [
       "<div>                            <div id=\"d6e404f6-53be-45d8-8535-40c31f8eb2c4\" class=\"plotly-graph-div\" style=\"height:525px; width:100%;\"></div>            <script type=\"text/javascript\">                require([\"plotly\"], function(Plotly) {                    window.PLOTLYENV=window.PLOTLYENV || {};                                    if (document.getElementById(\"d6e404f6-53be-45d8-8535-40c31f8eb2c4\")) {                    Plotly.newPlot(                        \"d6e404f6-53be-45d8-8535-40c31f8eb2c4\",                        [{\"alignmentgroup\":\"True\",\"bingroup\":\"x\",\"hovertemplate\":\"crime_type=%{x}<br>count=%{y}<extra></extra>\",\"legendgroup\":\"Criminal damage and arson\",\"marker\":{\"color\":\"#636efa\",\"pattern\":{\"shape\":\"\"}},\"name\":\"Criminal damage and arson\",\"offsetgroup\":\"Criminal damage and arson\",\"orientation\":\"v\",\"showlegend\":true,\"texttemplate\":\"%{value:1s}\",\"x\":[\"Criminal damage and arson\",\"Criminal damage and arson\",\"Criminal damage and arson\",\"Criminal damage and arson\",\"Criminal damage and arson\"],\"xaxis\":\"x\",\"yaxis\":\"y\",\"type\":\"histogram\",\"textfont\":{\"size\":12},\"cliponaxis\":false,\"textangle\":0,\"textposition\":\"outside\"},{\"alignmentgroup\":\"True\",\"bingroup\":\"x\",\"hovertemplate\":\"crime_type=%{x}<br>count=%{y}<extra></extra>\",\"legendgroup\":\"Vehicle crime\",\"marker\":{\"color\":\"#EF553B\",\"pattern\":{\"shape\":\"\"}},\"name\":\"Vehicle crime\",\"offsetgroup\":\"Vehicle crime\",\"orientation\":\"v\",\"showlegend\":true,\"texttemplate\":\"%{value:1s}\",\"x\":[\"Vehicle crime\",\"Vehicle crime\",\"Vehicle crime\",\"Vehicle crime\",\"Vehicle crime\",\"Vehicle crime\",\"Vehicle crime\"],\"xaxis\":\"x\",\"yaxis\":\"y\",\"type\":\"histogram\",\"textfont\":{\"size\":12},\"cliponaxis\":false,\"textangle\":0,\"textposition\":\"outside\"},{\"alignmentgroup\":\"True\",\"bingroup\":\"x\",\"hovertemplate\":\"crime_type=%{x}<br>count=%{y}<extra></extra>\",\"legendgroup\":\"Anti-social behaviour\",\"marker\":{\"color\":\"#00cc96\",\"pattern\":{\"shape\":\"\"}},\"name\":\"Anti-social behaviour\",\"offsetgroup\":\"Anti-social behaviour\",\"orientation\":\"v\",\"showlegend\":true,\"texttemplate\":\"%{value:1s}\",\"x\":[\"Anti-social behaviour\",\"Anti-social behaviour\",\"Anti-social behaviour\",\"Anti-social behaviour\",\"Anti-social behaviour\",\"Anti-social behaviour\",\"Anti-social behaviour\",\"Anti-social behaviour\",\"Anti-social behaviour\",\"Anti-social behaviour\",\"Anti-social behaviour\",\"Anti-social behaviour\"],\"xaxis\":\"x\",\"yaxis\":\"y\",\"type\":\"histogram\",\"textfont\":{\"size\":12},\"cliponaxis\":false,\"textangle\":0,\"textposition\":\"outside\"},{\"alignmentgroup\":\"True\",\"bingroup\":\"x\",\"hovertemplate\":\"crime_type=%{x}<br>count=%{y}<extra></extra>\",\"legendgroup\":\"Other theft\",\"marker\":{\"color\":\"#ab63fa\",\"pattern\":{\"shape\":\"\"}},\"name\":\"Other theft\",\"offsetgroup\":\"Other theft\",\"orientation\":\"v\",\"showlegend\":true,\"texttemplate\":\"%{value:1s}\",\"x\":[\"Other theft\",\"Other theft\"],\"xaxis\":\"x\",\"yaxis\":\"y\",\"type\":\"histogram\",\"textfont\":{\"size\":12},\"cliponaxis\":false,\"textangle\":0,\"textposition\":\"outside\"},{\"alignmentgroup\":\"True\",\"bingroup\":\"x\",\"hovertemplate\":\"crime_type=%{x}<br>count=%{y}<extra></extra>\",\"legendgroup\":\"Violence and sexual offences\",\"marker\":{\"color\":\"#FFA15A\",\"pattern\":{\"shape\":\"\"}},\"name\":\"Violence and sexual offences\",\"offsetgroup\":\"Violence and sexual offences\",\"orientation\":\"v\",\"showlegend\":true,\"texttemplate\":\"%{value:1s}\",\"x\":[\"Violence and sexual offences\",\"Violence and sexual offences\",\"Violence and sexual offences\",\"Violence and sexual offences\",\"Violence and sexual offences\",\"Violence and sexual offences\",\"Violence and sexual offences\",\"Violence and sexual offences\",\"Violence and sexual offences\"],\"xaxis\":\"x\",\"yaxis\":\"y\",\"type\":\"histogram\",\"textfont\":{\"size\":12},\"cliponaxis\":false,\"textangle\":0,\"textposition\":\"outside\"},{\"alignmentgroup\":\"True\",\"bingroup\":\"x\",\"hovertemplate\":\"crime_type=%{x}<br>count=%{y}<extra></extra>\",\"legendgroup\":\"Other crime\",\"marker\":{\"color\":\"#19d3f3\",\"pattern\":{\"shape\":\"\"}},\"name\":\"Other crime\",\"offsetgroup\":\"Other crime\",\"orientation\":\"v\",\"showlegend\":true,\"texttemplate\":\"%{value:1s}\",\"x\":[\"Other crime\"],\"xaxis\":\"x\",\"yaxis\":\"y\",\"type\":\"histogram\",\"textfont\":{\"size\":12},\"cliponaxis\":false,\"textangle\":0,\"textposition\":\"outside\"},{\"alignmentgroup\":\"True\",\"bingroup\":\"x\",\"hovertemplate\":\"crime_type=%{x}<br>count=%{y}<extra></extra>\",\"legendgroup\":\"Public order\",\"marker\":{\"color\":\"#FF6692\",\"pattern\":{\"shape\":\"\"}},\"name\":\"Public order\",\"offsetgroup\":\"Public order\",\"orientation\":\"v\",\"showlegend\":true,\"texttemplate\":\"%{value:1s}\",\"x\":[\"Public order\",\"Public order\"],\"xaxis\":\"x\",\"yaxis\":\"y\",\"type\":\"histogram\",\"textfont\":{\"size\":12},\"cliponaxis\":false,\"textangle\":0,\"textposition\":\"outside\"},{\"alignmentgroup\":\"True\",\"bingroup\":\"x\",\"hovertemplate\":\"crime_type=%{x}<br>count=%{y}<extra></extra>\",\"legendgroup\":\"Shoplifting\",\"marker\":{\"color\":\"#B6E880\",\"pattern\":{\"shape\":\"\"}},\"name\":\"Shoplifting\",\"offsetgroup\":\"Shoplifting\",\"orientation\":\"v\",\"showlegend\":true,\"texttemplate\":\"%{value:1s}\",\"x\":[\"Shoplifting\",\"Shoplifting\",\"Shoplifting\"],\"xaxis\":\"x\",\"yaxis\":\"y\",\"type\":\"histogram\",\"textfont\":{\"size\":12},\"cliponaxis\":false,\"textangle\":0,\"textposition\":\"outside\"},{\"alignmentgroup\":\"True\",\"bingroup\":\"x\",\"hovertemplate\":\"crime_type=%{x}<br>count=%{y}<extra></extra>\",\"legendgroup\":\"Burglary\",\"marker\":{\"color\":\"#FF97FF\",\"pattern\":{\"shape\":\"\"}},\"name\":\"Burglary\",\"offsetgroup\":\"Burglary\",\"orientation\":\"v\",\"showlegend\":true,\"texttemplate\":\"%{value:1s}\",\"x\":[\"Burglary\",\"Burglary\"],\"xaxis\":\"x\",\"yaxis\":\"y\",\"type\":\"histogram\",\"textfont\":{\"size\":12},\"cliponaxis\":false,\"textangle\":0,\"textposition\":\"outside\"},{\"alignmentgroup\":\"True\",\"bingroup\":\"x\",\"hovertemplate\":\"crime_type=%{x}<br>count=%{y}<extra></extra>\",\"legendgroup\":\"Drugs\",\"marker\":{\"color\":\"#FECB52\",\"pattern\":{\"shape\":\"\"}},\"name\":\"Drugs\",\"offsetgroup\":\"Drugs\",\"orientation\":\"v\",\"showlegend\":true,\"texttemplate\":\"%{value:1s}\",\"x\":[\"Drugs\",\"Drugs\"],\"xaxis\":\"x\",\"yaxis\":\"y\",\"type\":\"histogram\",\"textfont\":{\"size\":12},\"cliponaxis\":false,\"textangle\":0,\"textposition\":\"outside\"}],                        {\"template\":{\"data\":{\"bar\":[{\"error_x\":{\"color\":\"#2a3f5f\"},\"error_y\":{\"color\":\"#2a3f5f\"},\"marker\":{\"line\":{\"color\":\"#E5ECF6\",\"width\":0.5},\"pattern\":{\"fillmode\":\"overlay\",\"size\":10,\"solidity\":0.2}},\"type\":\"bar\"}],\"barpolar\":[{\"marker\":{\"line\":{\"color\":\"#E5ECF6\",\"width\":0.5},\"pattern\":{\"fillmode\":\"overlay\",\"size\":10,\"solidity\":0.2}},\"type\":\"barpolar\"}],\"carpet\":[{\"aaxis\":{\"endlinecolor\":\"#2a3f5f\",\"gridcolor\":\"white\",\"linecolor\":\"white\",\"minorgridcolor\":\"white\",\"startlinecolor\":\"#2a3f5f\"},\"baxis\":{\"endlinecolor\":\"#2a3f5f\",\"gridcolor\":\"white\",\"linecolor\":\"white\",\"minorgridcolor\":\"white\",\"startlinecolor\":\"#2a3f5f\"},\"type\":\"carpet\"}],\"choropleth\":[{\"colorbar\":{\"outlinewidth\":0,\"ticks\":\"\"},\"type\":\"choropleth\"}],\"contour\":[{\"colorbar\":{\"outlinewidth\":0,\"ticks\":\"\"},\"colorscale\":[[0.0,\"#0d0887\"],[0.1111111111111111,\"#46039f\"],[0.2222222222222222,\"#7201a8\"],[0.3333333333333333,\"#9c179e\"],[0.4444444444444444,\"#bd3786\"],[0.5555555555555556,\"#d8576b\"],[0.6666666666666666,\"#ed7953\"],[0.7777777777777778,\"#fb9f3a\"],[0.8888888888888888,\"#fdca26\"],[1.0,\"#f0f921\"]],\"type\":\"contour\"}],\"contourcarpet\":[{\"colorbar\":{\"outlinewidth\":0,\"ticks\":\"\"},\"type\":\"contourcarpet\"}],\"heatmap\":[{\"colorbar\":{\"outlinewidth\":0,\"ticks\":\"\"},\"colorscale\":[[0.0,\"#0d0887\"],[0.1111111111111111,\"#46039f\"],[0.2222222222222222,\"#7201a8\"],[0.3333333333333333,\"#9c179e\"],[0.4444444444444444,\"#bd3786\"],[0.5555555555555556,\"#d8576b\"],[0.6666666666666666,\"#ed7953\"],[0.7777777777777778,\"#fb9f3a\"],[0.8888888888888888,\"#fdca26\"],[1.0,\"#f0f921\"]],\"type\":\"heatmap\"}],\"heatmapgl\":[{\"colorbar\":{\"outlinewidth\":0,\"ticks\":\"\"},\"colorscale\":[[0.0,\"#0d0887\"],[0.1111111111111111,\"#46039f\"],[0.2222222222222222,\"#7201a8\"],[0.3333333333333333,\"#9c179e\"],[0.4444444444444444,\"#bd3786\"],[0.5555555555555556,\"#d8576b\"],[0.6666666666666666,\"#ed7953\"],[0.7777777777777778,\"#fb9f3a\"],[0.8888888888888888,\"#fdca26\"],[1.0,\"#f0f921\"]],\"type\":\"heatmapgl\"}],\"histogram\":[{\"marker\":{\"pattern\":{\"fillmode\":\"overlay\",\"size\":10,\"solidity\":0.2}},\"type\":\"histogram\"}],\"histogram2d\":[{\"colorbar\":{\"outlinewidth\":0,\"ticks\":\"\"},\"colorscale\":[[0.0,\"#0d0887\"],[0.1111111111111111,\"#46039f\"],[0.2222222222222222,\"#7201a8\"],[0.3333333333333333,\"#9c179e\"],[0.4444444444444444,\"#bd3786\"],[0.5555555555555556,\"#d8576b\"],[0.6666666666666666,\"#ed7953\"],[0.7777777777777778,\"#fb9f3a\"],[0.8888888888888888,\"#fdca26\"],[1.0,\"#f0f921\"]],\"type\":\"histogram2d\"}],\"histogram2dcontour\":[{\"colorbar\":{\"outlinewidth\":0,\"ticks\":\"\"},\"colorscale\":[[0.0,\"#0d0887\"],[0.1111111111111111,\"#46039f\"],[0.2222222222222222,\"#7201a8\"],[0.3333333333333333,\"#9c179e\"],[0.4444444444444444,\"#bd3786\"],[0.5555555555555556,\"#d8576b\"],[0.6666666666666666,\"#ed7953\"],[0.7777777777777778,\"#fb9f3a\"],[0.8888888888888888,\"#fdca26\"],[1.0,\"#f0f921\"]],\"type\":\"histogram2dcontour\"}],\"mesh3d\":[{\"colorbar\":{\"outlinewidth\":0,\"ticks\":\"\"},\"type\":\"mesh3d\"}],\"parcoords\":[{\"line\":{\"colorbar\":{\"outlinewidth\":0,\"ticks\":\"\"}},\"type\":\"parcoords\"}],\"pie\":[{\"automargin\":true,\"type\":\"pie\"}],\"scatter\":[{\"marker\":{\"colorbar\":{\"outlinewidth\":0,\"ticks\":\"\"}},\"type\":\"scatter\"}],\"scatter3d\":[{\"line\":{\"colorbar\":{\"outlinewidth\":0,\"ticks\":\"\"}},\"marker\":{\"colorbar\":{\"outlinewidth\":0,\"ticks\":\"\"}},\"type\":\"scatter3d\"}],\"scattercarpet\":[{\"marker\":{\"colorbar\":{\"outlinewidth\":0,\"ticks\":\"\"}},\"type\":\"scattercarpet\"}],\"scattergeo\":[{\"marker\":{\"colorbar\":{\"outlinewidth\":0,\"ticks\":\"\"}},\"type\":\"scattergeo\"}],\"scattergl\":[{\"marker\":{\"colorbar\":{\"outlinewidth\":0,\"ticks\":\"\"}},\"type\":\"scattergl\"}],\"scattermapbox\":[{\"marker\":{\"colorbar\":{\"outlinewidth\":0,\"ticks\":\"\"}},\"type\":\"scattermapbox\"}],\"scatterpolar\":[{\"marker\":{\"colorbar\":{\"outlinewidth\":0,\"ticks\":\"\"}},\"type\":\"scatterpolar\"}],\"scatterpolargl\":[{\"marker\":{\"colorbar\":{\"outlinewidth\":0,\"ticks\":\"\"}},\"type\":\"scatterpolargl\"}],\"scatterternary\":[{\"marker\":{\"colorbar\":{\"outlinewidth\":0,\"ticks\":\"\"}},\"type\":\"scatterternary\"}],\"surface\":[{\"colorbar\":{\"outlinewidth\":0,\"ticks\":\"\"},\"colorscale\":[[0.0,\"#0d0887\"],[0.1111111111111111,\"#46039f\"],[0.2222222222222222,\"#7201a8\"],[0.3333333333333333,\"#9c179e\"],[0.4444444444444444,\"#bd3786\"],[0.5555555555555556,\"#d8576b\"],[0.6666666666666666,\"#ed7953\"],[0.7777777777777778,\"#fb9f3a\"],[0.8888888888888888,\"#fdca26\"],[1.0,\"#f0f921\"]],\"type\":\"surface\"}],\"table\":[{\"cells\":{\"fill\":{\"color\":\"#EBF0F8\"},\"line\":{\"color\":\"white\"}},\"header\":{\"fill\":{\"color\":\"#C8D4E3\"},\"line\":{\"color\":\"white\"}},\"type\":\"table\"}]},\"layout\":{\"annotationdefaults\":{\"arrowcolor\":\"#2a3f5f\",\"arrowhead\":0,\"arrowwidth\":1},\"autotypenumbers\":\"strict\",\"coloraxis\":{\"colorbar\":{\"outlinewidth\":0,\"ticks\":\"\"}},\"colorscale\":{\"diverging\":[[0,\"#8e0152\"],[0.1,\"#c51b7d\"],[0.2,\"#de77ae\"],[0.3,\"#f1b6da\"],[0.4,\"#fde0ef\"],[0.5,\"#f7f7f7\"],[0.6,\"#e6f5d0\"],[0.7,\"#b8e186\"],[0.8,\"#7fbc41\"],[0.9,\"#4d9221\"],[1,\"#276419\"]],\"sequential\":[[0.0,\"#0d0887\"],[0.1111111111111111,\"#46039f\"],[0.2222222222222222,\"#7201a8\"],[0.3333333333333333,\"#9c179e\"],[0.4444444444444444,\"#bd3786\"],[0.5555555555555556,\"#d8576b\"],[0.6666666666666666,\"#ed7953\"],[0.7777777777777778,\"#fb9f3a\"],[0.8888888888888888,\"#fdca26\"],[1.0,\"#f0f921\"]],\"sequentialminus\":[[0.0,\"#0d0887\"],[0.1111111111111111,\"#46039f\"],[0.2222222222222222,\"#7201a8\"],[0.3333333333333333,\"#9c179e\"],[0.4444444444444444,\"#bd3786\"],[0.5555555555555556,\"#d8576b\"],[0.6666666666666666,\"#ed7953\"],[0.7777777777777778,\"#fb9f3a\"],[0.8888888888888888,\"#fdca26\"],[1.0,\"#f0f921\"]]},\"colorway\":[\"#636efa\",\"#EF553B\",\"#00cc96\",\"#ab63fa\",\"#FFA15A\",\"#19d3f3\",\"#FF6692\",\"#B6E880\",\"#FF97FF\",\"#FECB52\"],\"font\":{\"color\":\"#2a3f5f\"},\"geo\":{\"bgcolor\":\"white\",\"lakecolor\":\"white\",\"landcolor\":\"#E5ECF6\",\"showlakes\":true,\"showland\":true,\"subunitcolor\":\"white\"},\"hoverlabel\":{\"align\":\"left\"},\"hovermode\":\"closest\",\"mapbox\":{\"style\":\"light\"},\"paper_bgcolor\":\"white\",\"plot_bgcolor\":\"#E5ECF6\",\"polar\":{\"angularaxis\":{\"gridcolor\":\"white\",\"linecolor\":\"white\",\"ticks\":\"\"},\"bgcolor\":\"#E5ECF6\",\"radialaxis\":{\"gridcolor\":\"white\",\"linecolor\":\"white\",\"ticks\":\"\"}},\"scene\":{\"xaxis\":{\"backgroundcolor\":\"#E5ECF6\",\"gridcolor\":\"white\",\"gridwidth\":2,\"linecolor\":\"white\",\"showbackground\":true,\"ticks\":\"\",\"zerolinecolor\":\"white\"},\"yaxis\":{\"backgroundcolor\":\"#E5ECF6\",\"gridcolor\":\"white\",\"gridwidth\":2,\"linecolor\":\"white\",\"showbackground\":true,\"ticks\":\"\",\"zerolinecolor\":\"white\"},\"zaxis\":{\"backgroundcolor\":\"#E5ECF6\",\"gridcolor\":\"white\",\"gridwidth\":2,\"linecolor\":\"white\",\"showbackground\":true,\"ticks\":\"\",\"zerolinecolor\":\"white\"}},\"shapedefaults\":{\"line\":{\"color\":\"#2a3f5f\"}},\"ternary\":{\"aaxis\":{\"gridcolor\":\"white\",\"linecolor\":\"white\",\"ticks\":\"\"},\"baxis\":{\"gridcolor\":\"white\",\"linecolor\":\"white\",\"ticks\":\"\"},\"bgcolor\":\"#E5ECF6\",\"caxis\":{\"gridcolor\":\"white\",\"linecolor\":\"white\",\"ticks\":\"\"}},\"title\":{\"x\":0.05},\"xaxis\":{\"automargin\":true,\"gridcolor\":\"white\",\"linecolor\":\"white\",\"ticks\":\"\",\"title\":{\"standoff\":15},\"zerolinecolor\":\"white\",\"zerolinewidth\":2},\"yaxis\":{\"automargin\":true,\"gridcolor\":\"white\",\"linecolor\":\"white\",\"ticks\":\"\",\"title\":{\"standoff\":15},\"zerolinecolor\":\"white\",\"zerolinewidth\":2}}},\"xaxis\":{\"anchor\":\"y\",\"domain\":[0.0,1.0],\"title\":{\"text\":\"crime_type\"},\"categoryorder\":\"total descending\",\"categoryarray\":[\"Criminal damage and arson\",\"Vehicle crime\",\"Anti-social behaviour\",\"Other theft\",\"Violence and sexual offences\",\"Other crime\",\"Public order\",\"Shoplifting\",\"Burglary\",\"Drugs\"]},\"yaxis\":{\"anchor\":\"x\",\"domain\":[0.0,1.0],\"title\":{\"text\":\"count\"}},\"legend\":{\"title\":{\"text\":\"crime_type\"},\"tracegroupgap\":0},\"margin\":{\"t\":60},\"barmode\":\"relative\",\"uniformtext\":{\"minsize\":8}},                        {\"responsive\": true}                    ).then(function(){\n",
       "                            \n",
       "var gd = document.getElementById('d6e404f6-53be-45d8-8535-40c31f8eb2c4');\n",
       "var x = new MutationObserver(function (mutations, observer) {{\n",
       "        var display = window.getComputedStyle(gd).display;\n",
       "        if (!display || display === 'none') {{\n",
       "            console.log([gd, 'removed!']);\n",
       "            Plotly.purge(gd);\n",
       "            observer.disconnect();\n",
       "        }}\n",
       "}});\n",
       "\n",
       "// Listen for the removal of the full notebook cells\n",
       "var notebookContainer = gd.closest('#notebook-container');\n",
       "if (notebookContainer) {{\n",
       "    x.observe(notebookContainer, {childList: true});\n",
       "}}\n",
       "\n",
       "// Listen for the clearing of the current output cell\n",
       "var outputEl = gd.closest('.output');\n",
       "if (outputEl) {{\n",
       "    x.observe(outputEl, {childList: true});\n",
       "}}\n",
       "\n",
       "                        })                };                });            </script>        </div>"
      ]
     },
     "metadata": {},
     "output_type": "display_data"
    }
   ],
   "source": [
    "import plotly.express as px\n",
    "# df.toPandas()\n",
    "fig = px.histogram(\n",
    "    get_crime(51.39477532505466, 0.10633558916633941).toPandas(), \n",
    "    x='crime_type', \n",
    "    color=\"crime_type\",\n",
    "    text_auto='1s'\n",
    ")\n",
    "fig.update_layout( xaxis={'categoryorder':'total descending'}, uniformtext_minsize=8)\n",
    "fig.update_traces(textfont_size=12, textangle=0, textposition=\"outside\", cliponaxis=False)\n",
    "\n",
    "fig.show()"
   ]
  }
 ],
 "metadata": {
  "kernelspec": {
   "display_name": "Python 3 (ipykernel)",
   "language": "python",
   "name": "python3"
  },
  "language_info": {
   "codemirror_mode": {
    "name": "ipython",
    "version": 3
   },
   "file_extension": ".py",
   "mimetype": "text/x-python",
   "name": "python",
   "nbconvert_exporter": "python",
   "pygments_lexer": "ipython3",
   "version": "3.8.5"
  }
 },
 "nbformat": 4,
 "nbformat_minor": 5
}
